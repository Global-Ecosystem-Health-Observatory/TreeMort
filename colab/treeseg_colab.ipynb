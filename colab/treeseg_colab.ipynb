{
 "cells": [
  {
   "cell_type": "code",
   "execution_count": 1,
   "id": "1ddac446",
   "metadata": {},
   "outputs": [],
   "source": [
    "import os\n",
    "import sys\n",
    "\n",
    "current_dir = os.getcwd()\n",
    "\n",
    "parent_dir = os.path.abspath(os.path.join(current_dir, \"..\"))\n",
    "\n",
    "if parent_dir not in sys.path:\n",
    "    sys.path.append(parent_dir)"
   ]
  },
  {
   "cell_type": "code",
   "execution_count": 2,
   "id": "6d396a72",
   "metadata": {},
   "outputs": [
    {
     "name": "stderr",
     "output_type": "stream",
     "text": [
      "2024-07-04 12:46:42.031914: I tensorflow/core/platform/cpu_feature_guard.cc:210] This TensorFlow binary is optimized to use available CPU instructions in performance-critical operations.\n",
      "To enable the following instructions: AVX2 FMA, in other operations, rebuild TensorFlow with the appropriate compiler flags.\n"
     ]
    }
   ],
   "source": [
    "from tools.config import setup\n",
    "\n",
    "from treeseg.data.dataset import prepare_datasets\n",
    "from treeseg.data.imagepaths import get_image_label_paths\n",
    "\n",
    "from treeseg.modeling.trainer import resume_or_load, trainer\n",
    "from treeseg.evaluation.evaluator import evaluator"
   ]
  },
  {
   "cell_type": "code",
   "execution_count": 3,
   "id": "48f7f93a",
   "metadata": {},
   "outputs": [
    {
     "name": "stdout",
     "output_type": "stream",
     "text": [
      "Loaded weights from ../output/Checkpoints/best.weights.h5\n",
      "Training mode\n",
      "Epoch 1/100\n"
     ]
    },
    {
     "name": "stderr",
     "output_type": "stream",
     "text": [
      "/Users/anis/Documents/TreeSeg/venv/lib/python3.12/site-packages/keras/src/saving/saving_lib.py:576: UserWarning: Skipping variable loading for optimizer 'adam', because it has 2 variables whereas the saved optimizer has 159 variables. \n",
      "  saveable.load_own_variables(weights_store.get(inner_path))\n"
     ]
    },
    {
     "name": "stdout",
     "output_type": "stream",
     "text": [
      "\u001b[1m   7/2949\u001b[0m \u001b[37m━━━━━━━━━━━━━━━━━━━━\u001b[0m \u001b[1m23:13:09\u001b[0m 28s/step - accuracy: 0.9996 - loss: 0.0039"
     ]
    }
   ],
   "source": [
    "def run(conf, eval_only):\n",
    "    assert os.path.exists(\n",
    "        conf.data_folder\n",
    "    ), f\"Data folder {conf.data_folder} does not exist.\"\n",
    "\n",
    "    train_images, train_labels, test_images, test_labels = get_image_label_paths(\n",
    "        conf.data_folder\n",
    "    )\n",
    "\n",
    "    train_dataset, val_dataset, test_dataset = prepare_datasets(\n",
    "        train_images, train_labels, test_images, test_labels, conf\n",
    "    )\n",
    "\n",
    "    model = resume_or_load(conf)\n",
    "\n",
    "    if eval_only:\n",
    "        print(\"Evaluation only mode\")\n",
    "        evaluator(model, test_dataset, len(test_images), conf.test_batch_size)\n",
    "\n",
    "    else:\n",
    "        print(\"Training mode\")\n",
    "        trainer(model, train_dataset, val_dataset, len(train_images), conf)\n",
    "\n",
    "    return model\n",
    "\n",
    "\n",
    "if __name__ == \"__main__\":\n",
    "    config_file_path = \"../configs/kokonet_bs8_cs256.txt\"\n",
    "\n",
    "    conf = setup(config_file_path)\n",
    "\n",
    "    # Modified Config Variables for Local Execution\n",
    "    conf.data_folder = \"/Users/anis/Documents/AerialImageModel_ITD\"\n",
    "    conf.output_dir = os.path.join(\"..\", conf.output_dir)\n",
    "\n",
    "    eval_only = False\n",
    "\n",
    "    run(conf, eval_only)"
   ]
  }
 ],
 "metadata": {
  "kernelspec": {
   "display_name": "Python 3 (ipykernel)",
   "language": "python",
   "name": "python3"
  },
  "language_info": {
   "codemirror_mode": {
    "name": "ipython",
    "version": 3
   },
   "file_extension": ".py",
   "mimetype": "text/x-python",
   "name": "python",
   "nbconvert_exporter": "python",
   "pygments_lexer": "ipython3",
   "version": "3.12.4"
  }
 },
 "nbformat": 4,
 "nbformat_minor": 5
}
