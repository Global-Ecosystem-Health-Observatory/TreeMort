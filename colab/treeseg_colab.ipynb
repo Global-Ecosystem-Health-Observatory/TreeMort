{
 "cells": [
  {
   "cell_type": "code",
   "execution_count": 1,
   "id": "da5d243d",
   "metadata": {},
   "outputs": [],
   "source": [
    "import os\n",
    "import sys\n",
    "\n",
    "current_dir = os.getcwd()\n",
    "\n",
    "parent_dir = os.path.abspath(os.path.join(current_dir, \"..\"))\n",
    "\n",
    "if parent_dir not in sys.path:\n",
    "    sys.path.append(parent_dir)\n",
    "\n",
    "#os.environ[\"SM_FRAMEWORK\"] = \"tf.keras\""
   ]
  },
  {
   "cell_type": "code",
   "execution_count": 2,
   "id": "6d396a72",
   "metadata": {},
   "outputs": [
    {
     "name": "stderr",
     "output_type": "stream",
     "text": [
      "/Users/anisr/Documents/TreeSeg/venv/lib/python3.12/site-packages/tqdm/auto.py:21: TqdmWarning: IProgress not found. Please update jupyter and ipywidgets. See https://ipywidgets.readthedocs.io/en/stable/user_install.html\n",
      "  from .autonotebook import tqdm as notebook_tqdm\n"
     ]
    }
   ],
   "source": [
    "from tools.config import setup\n",
    "from treeseg.data.dataset import prepare_datasets\n",
    "from treeseg.modeling.trainer import trainer\n",
    "from treeseg.modeling.builder import resume_or_load\n",
    "from treeseg.evaluation.evaluator import evaluator\n",
    "from treeseg.utils.callbacks import build_callbacks"
   ]
  },
  {
   "cell_type": "code",
   "execution_count": 3,
   "id": "48f7f93a",
   "metadata": {},
   "outputs": [
    {
     "name": "stdout",
     "output_type": "stream",
     "text": [
      "No checkpoint found. Proceeding without loading weights.\n",
      "Evaluation-only mode started.\n"
     ]
    },
    {
     "name": "stderr",
     "output_type": "stream",
     "text": [
      "Evaluating: 405it [21:52,  2.45s/it, iterations_left=-354]                     "
     ]
    }
   ],
   "source": [
    "def run(conf, eval_only):\n",
    "    assert os.path.exists(\n",
    "        conf.data_folder\n",
    "    ), f\"Data folder {conf.data_folder} does not exist.\"\n",
    "\n",
    "    if not os.path.exists(conf.output_dir):\n",
    "            os.makedirs(conf.output_dir)\n",
    "\n",
    "    train_dataset, val_dataset, test_dataset = prepare_datasets(conf.data_folder, conf)\n",
    "\n",
    "    model, optimizer, criterion, metrics = resume_or_load(conf)\n",
    "    \n",
    "    n_batches = len(train_dataset)\n",
    "\n",
    "    callbacks = build_callbacks(n_batches, conf.output_dir, optimizer)\n",
    "\n",
    "    if eval_only:\n",
    "        print(\"Evaluation-only mode started.\")\n",
    "\n",
    "        evaluator(model, test_dataset, len(test_dataset), conf.test_batch_size, conf.threshold)\n",
    "\n",
    "    else:\n",
    "        print(\"Training mode started.\")\n",
    "        \n",
    "        trainer(model, optimizer, criterion, metrics, train_dataset, val_dataset, conf, callbacks)\n",
    "\n",
    "\n",
    "if __name__ == \"__main__\":\n",
    "    config_file_path = \"../configs/unet_bs8_cs256_bin.txt\"\n",
    "\n",
    "    conf = setup(config_file_path)\n",
    "\n",
    "    # Modified Config Variables for Local Execution\n",
    "    conf.data_folder = \"/Users/anisr/Documents/AerialImageModel_ITD\"\n",
    "    conf.output_dir = os.path.join(\"..\", conf.output_dir)\n",
    "\n",
    "    eval_only = True\n",
    "\n",
    "    run(conf, eval_only)"
   ]
  }
 ],
 "metadata": {
  "kernelspec": {
   "display_name": "Python 3 (ipykernel)",
   "language": "python",
   "name": "python3"
  },
  "language_info": {
   "codemirror_mode": {
    "name": "ipython",
    "version": 3
   },
   "file_extension": ".py",
   "mimetype": "text/x-python",
   "name": "python",
   "nbconvert_exporter": "python",
   "pygments_lexer": "ipython3",
   "version": "3.12.4"
  }
 },
 "nbformat": 4,
 "nbformat_minor": 5
}
