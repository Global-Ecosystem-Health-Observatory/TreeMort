{
 "cells": [
  {
   "cell_type": "code",
   "execution_count": 1,
   "id": "2e751a47",
   "metadata": {},
   "outputs": [],
   "source": [
    "import os\n",
    "import sys\n",
    "\n",
    "current_dir = os.getcwd()\n",
    "\n",
    "parent_dir = os.path.abspath(os.path.join(current_dir, \"..\"))\n",
    "\n",
    "if parent_dir not in sys.path:\n",
    "    sys.path.append(parent_dir)"
   ]
  },
  {
   "cell_type": "code",
   "execution_count": 3,
   "id": "b53b66e3",
   "metadata": {},
   "outputs": [
    {
     "name": "stderr",
     "output_type": "stream",
     "text": [
      "2024-09-21 05:57:55,741 - INFO - Using config file: ../configs/flair_unet_bs8_cs256.txt\n",
      "2024-09-21 05:57:55,750 - INFO - Configuration successfully loaded.\n"
     ]
    },
    {
     "name": "stdout",
     "output_type": "stream",
     "text": [
      "Namespace(model='flair_unet', backbone=None, model_weights='best', learning_rate=0.0001, activation='sigmoid', loss='hybrid', threshold=0.5, class_weights=[0.1, 0.9], epochs=100, train_batch_size=8, val_batch_size=8, test_batch_size=8, train_crop_size=256, val_crop_size=256, test_crop_size=256, val_size=0.2, test_size=0.1, resume=True, data_folder='/Users/anisr/Documents/dead_trees/Finland/RGBNIR/25cm', hdf5_file='Finland_RGBNIR_25cm.h5', input_channels=4, output_channels=1, output_dir='../output/flair_unet')\n"
     ]
    }
   ],
   "source": [
    "from treemort.utils.config import setup\n",
    "\n",
    "config_file_path = \"../configs/flair_unet_bs8_cs256.txt\"\n",
    "conf = setup(config_file_path)\n",
    "\n",
    "# Modified Config Variables for Local Execution; comment on HPC\n",
    "conf.data_folder = \"/Users/anisr/Documents/dead_trees/Finland/RGBNIR/25cm\"\n",
    "conf.output_dir = os.path.join(\"..\", conf.output_dir)\n",
    "\n",
    "print(conf)"
   ]
  },
  {
   "cell_type": "code",
   "execution_count": 6,
   "id": "a02b7c16",
   "metadata": {},
   "outputs": [
    {
     "name": "stderr",
     "output_type": "stream",
     "text": [
      "2024-09-21 05:59:33,199 - INFO - Output directory already exists: ../output/flair_unet\n",
      "2024-09-21 05:59:33,201 - INFO - Using device: cpu\n",
      "2024-09-21 05:59:33,202 - INFO - Preparing datasets...\n",
      "2024-09-21 05:59:33,522 - INFO - Datasets prepared: Train(80), Val(31), Test(15)\n",
      "2024-09-21 05:59:33,523 - INFO - Loading or resuming model...\n",
      "2024-09-21 05:59:33,523 - INFO - Building model...\n",
      "2024-09-21 05:59:34,324 - INFO - flair_unet model configured.\n",
      "2024-09-21 05:59:34,327 - INFO - Model successfully moved to cpu.\n",
      "2024-09-21 05:59:34,327 - INFO - Adam optimizer configured with learning rate 0.0001.\n",
      "2024-09-21 05:59:34,328 - INFO - Hybrid loss and metrics (IOU, F-Score) configured.\n",
      "2024-09-21 05:59:34,409 - INFO - Loaded weights from ../output/flair_unet/best.weights.pth.\n",
      "2024-09-21 05:59:34,409 - INFO - Model, optimizer, criterion, metrics, and callbacks are set up.\n",
      "2024-09-21 05:59:34,409 - INFO - Evaluation-only mode started.\n",
      "Evaluating: 100%|██████████| 15/15 [00:14<00:00,  1.01it/s, iterations_left=0]\n",
      "2024-09-21 05:59:49,254 - INFO - Mean IOU Pixels: 0.265\n",
      "2024-09-21 05:59:49,254 - INFO - Mean IOU Trees: 0.770\n",
      "2024-09-21 05:59:49,254 - INFO - Mean IOU: 0.865\n",
      "2024-09-21 05:59:49,255 - INFO - Mean Balanced IOU: 0.996\n",
      "2024-09-21 05:59:49,255 - INFO - Mean Dice Score: 0.329\n",
      "2024-09-21 05:59:49,255 - INFO - Mean Adjusted Dice Score: 0.795\n",
      "2024-09-21 05:59:49,255 - INFO - Mean MCC: 0.336\n",
      "2024-09-21 05:59:49,256 - INFO - Evaluation completed.\n"
     ]
    }
   ],
   "source": [
    "from treemort.main import run\n",
    "\n",
    "eval_only = True\n",
    "\n",
    "run(conf, eval_only)"
   ]
  },
  {
   "cell_type": "code",
   "execution_count": null,
   "id": "e5694bd7",
   "metadata": {},
   "outputs": [],
   "source": []
  },
  {
   "cell_type": "code",
   "execution_count": null,
   "id": "e43a6dba",
   "metadata": {},
   "outputs": [],
   "source": [
    "import h5py\n",
    "\n",
    "from treemort.data.loader import prepare_datasets\n",
    "from treemort.utils.config import setup\n",
    "from treemort.utils.plots import plot_examples\n",
    "\n",
    "config_file_path = \"../configs/hcfnet_bs8_cs256.txt\"\n",
    "conf = setup(config_file_path)\n",
    "\n",
    "# Modified Config Variables for Local Execution; comment on HPC\n",
    "conf.data_folder = \"/Users/anisr/Documents/AerialImages\"\n",
    "\n",
    "hdf5_file_path = os.path.join(conf.data_folder, conf.hdf5_file)\n",
    "with h5py.File(hdf5_file_path, 'r') as hf:\n",
    "    keys = list(hf.keys())\n",
    "\n",
    "train_dataset, val_dataset, test_dataset, _ = prepare_datasets(conf)\n",
    "\n",
    "plot_examples(train_dataset, num_examples=5)"
   ]
  },
  {
   "cell_type": "code",
   "execution_count": null,
   "id": "bffbad81",
   "metadata": {},
   "outputs": [],
   "source": []
  }
 ],
 "metadata": {
  "kernelspec": {
   "display_name": "Python 3 (ipykernel)",
   "language": "python",
   "name": "python3"
  },
  "language_info": {
   "codemirror_mode": {
    "name": "ipython",
    "version": 3
   },
   "file_extension": ".py",
   "mimetype": "text/x-python",
   "name": "python",
   "nbconvert_exporter": "python",
   "pygments_lexer": "ipython3",
   "version": "3.9.6"
  }
 },
 "nbformat": 4,
 "nbformat_minor": 5
}
