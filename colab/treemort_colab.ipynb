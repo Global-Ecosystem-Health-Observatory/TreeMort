{
 "cells": [
  {
   "cell_type": "code",
   "execution_count": 1,
   "id": "2e751a47",
   "metadata": {},
   "outputs": [],
   "source": [
    "import os\n",
    "import sys\n",
    "\n",
    "current_dir = os.getcwd()\n",
    "\n",
    "parent_dir = os.path.abspath(os.path.join(current_dir, \"..\"))\n",
    "\n",
    "if parent_dir not in sys.path:\n",
    "    sys.path.append(parent_dir)"
   ]
  },
  {
   "cell_type": "code",
   "execution_count": 5,
   "id": "b53b66e3",
   "metadata": {},
   "outputs": [
    {
     "name": "stderr",
     "output_type": "stream",
     "text": [
      "2024-10-18 14:48:29,201 - INFO - Using config file: ../configs/flair_unet_bs8_cs256.txt\n"
     ]
    },
    {
     "name": "stderr",
     "output_type": "stream",
     "text": [
      "2024-10-18 14:48:29,209 - INFO - Configuration successfully loaded.\n"
     ]
    },
    {
     "name": "stdout",
     "output_type": "stream",
     "text": [
      "Namespace(model='flair_unet', backbone=None, model_weights='best', learning_rate=0.0001, activation='sigmoid', loss='hybrid', threshold=0.5, class_weights=[0.1, 0.9], epochs=100, train_batch_size=8, val_batch_size=8, test_batch_size=8, train_crop_size=256, val_crop_size=256, test_crop_size=256, val_size=0.0, test_size=1.0, resume=False, data_folder='/Users/anisr/Documents/USA2Finland/model55_350', hdf5_file='real_A.h5', input_channels=4, output_channels=1, output_dir='../output/flair_unet')\n"
     ]
    }
   ],
   "source": [
    "from treemort.utils.config import setup\n",
    "\n",
    "config_file_path = \"../configs/flair_unet_bs8_cs256.txt\"\n",
    "conf = setup(config_file_path)\n",
    "\n",
    "# Modified Config Variables for Local Execution; comment on HPC\n",
    "conf.data_folder = \"/Users/anisr/Documents/USA2Finland/model55_350\"\n",
    "conf.output_dir = os.path.join(\"..\", conf.output_dir)\n",
    "conf.hdf5_file = 'real_A.h5'\n",
    "conf.resume = False\n",
    "\n",
    "print(conf)"
   ]
  },
  {
   "cell_type": "code",
   "execution_count": 116,
   "id": "a02b7c16",
   "metadata": {},
   "outputs": [
    {
     "name": "stderr",
     "output_type": "stream",
     "text": [
      "2024-10-18 10:24:54,964 - INFO - Output directory already exists: ../output/flair_unet\n",
      "2024-10-18 10:24:54,965 - INFO - Using device: cpu\n",
      "2024-10-18 10:24:54,966 - INFO - Preparing datasets...\n",
      "2024-10-18 10:24:55,281 - INFO - Datasets prepared: Train(0), Val(0), Test(140)\n",
      "2024-10-18 10:24:55,281 - INFO - Loading or resuming model...\n",
      "2024-10-18 10:24:55,282 - INFO - Building model...\n",
      "2024-10-18 10:24:56,113 - INFO - flair_unet model configured.\n",
      "2024-10-18 10:24:56,116 - INFO - Model successfully moved to cpu.\n",
      "2024-10-18 10:24:56,117 - INFO - Adam optimizer configured with learning rate 0.0001.\n",
      "2024-10-18 10:24:56,117 - INFO - Hybrid loss and metrics (IOU, F-Score) configured.\n",
      "2024-10-18 10:24:56,205 - INFO - Loaded weights from ../output/flair_unet/best.weights.pth.\n",
      "2024-10-18 10:24:56,206 - INFO - Model, optimizer, criterion, metrics, and callbacks are set up.\n",
      "2024-10-18 10:24:56,206 - INFO - Evaluation-only mode started.\n",
      "Evaluating: 100%|██████████| 140/140 [02:15<00:00,  1.03it/s, iterations_left=0] \n",
      "2024-10-18 10:27:11,993 - INFO - Mean IOU Pixels: 0.172\n",
      "2024-10-18 10:27:11,993 - INFO - Mean IOU Trees: 0.248\n",
      "2024-10-18 10:27:11,994 - INFO - Mean IOU: 0.593\n",
      "2024-10-18 10:27:11,994 - INFO - Mean Balanced IOU: 0.964\n",
      "2024-10-18 10:27:11,994 - INFO - Mean Dice Score: 0.238\n",
      "2024-10-18 10:27:11,994 - INFO - Mean Adjusted Dice Score: 0.271\n",
      "2024-10-18 10:27:11,995 - INFO - Mean MCC: 0.259\n",
      "2024-10-18 10:27:11,995 - INFO - Evaluation completed.\n"
     ]
    }
   ],
   "source": [
    "from treemort.main import run\n",
    "\n",
    "eval_only = True\n",
    "\n",
    "run(conf, eval_only)"
   ]
  },
  {
   "cell_type": "markdown",
   "id": "03bc07cc",
   "metadata": {},
   "source": [
    "### Optional. Plot samples"
   ]
  },
  {
   "cell_type": "code",
   "execution_count": 6,
   "id": "55fa7bfd",
   "metadata": {},
   "outputs": [
    {
     "name": "stderr",
     "output_type": "stream",
     "text": [
      "2024-10-18 14:48:32,512 - INFO - Building model...\n",
      "2024-10-18 14:48:33,446 - INFO - flair_unet model configured.\n",
      "2024-10-18 14:48:33,449 - INFO - Model successfully moved to cpu.\n",
      "2024-10-18 14:48:33,450 - INFO - Adam optimizer configured with learning rate 0.0001.\n",
      "2024-10-18 14:48:33,451 - INFO - Hybrid loss and metrics (IOU, F-Score) configured.\n",
      "2024-10-18 14:48:33,451 - INFO - Training model from scratch.\n"
     ]
    }
   ],
   "source": [
    "import torch\n",
    "\n",
    "from treemort.data.loader import prepare_datasets\n",
    "from treemort.modeling.builder import resume_or_load\n",
    "from treemort.evaluation.evaluator import evaluator\n",
    "\n",
    "id2label = {0: \"alive\", 1: \"dead\"}\n",
    "\n",
    "device = torch.device(\"cuda\" if torch.cuda.is_available() else \"cpu\")\n",
    "\n",
    "conf.hdf5_file = 'real_A.h5'\n",
    "_, _, test_dataset_real = prepare_datasets(conf)\n",
    "\n",
    "conf.hdf5_file = 'fake_B.h5'\n",
    "_, _, test_dataset_fake = prepare_datasets(conf)\n",
    "\n",
    "model, _, _, _, _ = resume_or_load(conf, id2label, len(test_dataset_fake), device)"
   ]
  },
  {
   "cell_type": "code",
   "execution_count": 9,
   "id": "b202f104",
   "metadata": {},
   "outputs": [
    {
     "name": "stdout",
     "output_type": "stream",
     "text": [
      "tensor([468, 619, 461, 445, 925, 252, 634, 662])\n",
      "tensor([790, 274, 692, 116, 253, 969, 912, 658])\n",
      "tensor([1059,  641,  146,  191,  919,  718,  457,  767])\n",
      "tensor([ 70, 607, 413, 529, 736, 654, 503, 620])\n",
      "tensor([ 168, 1045,  781,  589, 1044,  390,  778,  186])\n",
      "tensor([ 470, 1061,   80,  573,  326,  548, 1085,  482])\n",
      "tensor([ 417,   47,  590,  971,  463,  248, 1117,  105])\n",
      "tensor([851, 549, 311, 852, 241, 667, 876, 511])\n",
      "tensor([ 597,  621,  332,  172, 1010,   64,  877,  792])\n",
      "tensor([937, 388, 212, 505, 976, 904, 130,  75])\n",
      "tensor([ 729,  293,  707, 1096,  133,  122,  681,  287])\n",
      "tensor([902, 497, 415, 695, 568, 128, 606, 715])\n",
      "tensor([1023,  668,  618,  861,  835,  433,  336,  475])\n",
      "tensor([ 483,  717,  992,  451,  224,  440,   82, 1017])\n",
      "tensor([578, 727, 366, 917, 396,  41, 834, 967])\n",
      "tensor([1041,  614,  832,  866, 1003,  385,  633,  151])\n",
      "tensor([ 955,  200,  637,  138,  586, 1103,  819,  198])\n",
      "tensor([1014,  639,  743,  435, 1033,  624,  653,  789])\n",
      "tensor([156, 132, 230, 609, 487, 558, 254, 234])\n",
      "tensor([ 996,  231,  566, 1013, 1076,  406, 1120,   84])\n",
      "tensor([177, 724, 779, 560, 647, 903, 982, 518])\n"
     ]
    },
    {
     "ename": "AttributeError",
     "evalue": "'Tensor' object has no attribute 'index'",
     "output_type": "error",
     "traceback": [
      "\u001b[0;31m---------------------------------------------------------------------------\u001b[0m",
      "\u001b[0;31mAttributeError\u001b[0m                            Traceback (most recent call last)",
      "Cell \u001b[0;32mIn[9], line 18\u001b[0m\n\u001b[1;32m     16\u001b[0m \u001b[38;5;28mprint\u001b[39m(keys_real)\n\u001b[1;32m     17\u001b[0m \u001b[38;5;28;01mif\u001b[39;00m sample_key \u001b[38;5;129;01min\u001b[39;00m keys_real:\n\u001b[0;32m---> 18\u001b[0m     index_real \u001b[38;5;241m=\u001b[39m \u001b[43mkeys_real\u001b[49m\u001b[38;5;241;43m.\u001b[39;49m\u001b[43mindex\u001b[49m(sample_key)  \u001b[38;5;66;03m# Get the index for the same sample\u001b[39;00m\n\u001b[1;32m     19\u001b[0m     image_real \u001b[38;5;241m=\u001b[39m images_real[index_real]\n\u001b[1;32m     20\u001b[0m     label_real \u001b[38;5;241m=\u001b[39m labels_real[index_real]\n",
      "\u001b[0;31mAttributeError\u001b[0m: 'Tensor' object has no attribute 'index'"
     ]
    }
   ],
   "source": [
    "import torch\n",
    "import matplotlib.pyplot as plt\n",
    "\n",
    "# Switch the model to evaluation mode\n",
    "model.eval()\n",
    "\n",
    "# Get one sample from the test_dataset_fake\n",
    "images_fake, labels_fake, keys_fake = next(iter(test_dataset_fake))  # Assume keys_fake is available\n",
    "sample_index = 0  # You can change this index to retrieve different samples\n",
    "\n",
    "# Find the corresponding key for the sample\n",
    "sample_key = keys_fake[sample_index]  # The unique identifier (could be filename or another key)\n",
    "\n",
    "# Use this key to find the corresponding sample in the test_dataset_real\n",
    "for images_real, labels_real, keys_real in test_dataset_real:\n",
    "    if sample_key in keys_real:\n",
    "        index_real = keys_real.index(sample_key)  # Get the index for the same sample\n",
    "        image_real = images_real[index_real]\n",
    "        label_real = labels_real[index_real]\n",
    "        break\n",
    "\n",
    "# Now retrieve the fake sample with the same key\n",
    "image_fake = images_fake[sample_index]\n",
    "label_fake = labels_fake[sample_index]\n",
    "\n",
    "# No gradients needed during evaluation\n",
    "with torch.no_grad():\n",
    "    # Get predictions for both real and fake images\n",
    "    outputs_fake = model(image_fake.unsqueeze(0))  # Add batch dimension\n",
    "    predictions_fake = torch.sigmoid(outputs_fake).squeeze(0)\n",
    "    \n",
    "    outputs_real = model(image_real.unsqueeze(0))  # Add batch dimension\n",
    "    predictions_real = torch.sigmoid(outputs_real).squeeze(0)\n",
    "\n",
    "# Convert tensors to numpy arrays for plotting\n",
    "rgb_image_fake = image_fake[1:, :, :].permute(1, 2, 0).cpu().numpy()\n",
    "label_image_fake = label_fake.squeeze().cpu().numpy()\n",
    "prediction_image_fake = predictions_fake.squeeze().cpu().numpy()\n",
    "prediction_mask_fake = prediction_image_fake > conf.threshold\n",
    "\n",
    "rgb_image_real = image_real[1:, :, :].permute(1, 2, 0).cpu().numpy()\n",
    "label_image_real = label_real.squeeze().cpu().numpy()\n",
    "prediction_image_real = predictions_real.squeeze().cpu().numpy()\n",
    "prediction_mask_real = prediction_image_real > conf.threshold\n",
    "\n",
    "# Plot the images and their predictions side by side for real and fake datasets\n",
    "fig, axes = plt.subplots(2, 4, figsize=(16, 8))\n",
    "\n",
    "# Fake dataset visualizations\n",
    "axes[0, 0].imshow(rgb_image_fake)\n",
    "axes[0, 0].set_title(\"Fake Dataset - NIR+RGB Image (RGB view)\")\n",
    "axes[0, 0].axis('off')\n",
    "\n",
    "axes[0, 1].imshow(label_image_fake, cmap='gray')\n",
    "axes[0, 1].set_title(\"Fake Dataset - Label (Grayscale)\")\n",
    "axes[0, 1].axis('off')\n",
    "\n",
    "axes[0, 2].imshow(prediction_image_fake, cmap='gray')\n",
    "axes[0, 2].set_title(\"Fake Dataset - Prediction (Grayscale)\")\n",
    "axes[0, 2].axis('off')\n",
    "\n",
    "axes[0, 3].imshow(prediction_mask_fake, cmap='gray')\n",
    "axes[0, 3].set_title(\"Fake Dataset - Prediction (Binary)\")\n",
    "axes[0, 3].axis('off')\n",
    "\n",
    "# Real dataset visualizations\n",
    "axes[1, 0].imshow(rgb_image_real)\n",
    "axes[1, 0].set_title(\"Real Dataset - NIR+RGB Image (RGB view)\")\n",
    "axes[1, 0].axis('off')\n",
    "\n",
    "axes[1, 1].imshow(label_image_real, cmap='gray')\n",
    "axes[1, 1].set_title(\"Real Dataset - Label (Grayscale)\")\n",
    "axes[1, 1].axis('off')\n",
    "\n",
    "axes[1, 2].imshow(prediction_image_real, cmap='gray')\n",
    "axes[1, 2].set_title(\"Real Dataset - Prediction (Grayscale)\")\n",
    "axes[1, 2].axis('off')\n",
    "\n",
    "axes[1, 3].imshow(prediction_mask_real, cmap='gray')\n",
    "axes[1, 3].set_title(\"Real Dataset - Prediction (Binary)\")\n",
    "axes[1, 3].axis('off')\n",
    "\n",
    "plt.tight_layout()\n",
    "plt.show()"
   ]
  }
 ],
 "metadata": {
  "kernelspec": {
   "display_name": "Python 3 (ipykernel)",
   "language": "python",
   "name": "python3"
  },
  "language_info": {
   "codemirror_mode": {
    "name": "ipython",
    "version": 3
   },
   "file_extension": ".py",
   "mimetype": "text/x-python",
   "name": "python",
   "nbconvert_exporter": "python",
   "pygments_lexer": "ipython3",
   "version": "3.9.6"
  }
 },
 "nbformat": 4,
 "nbformat_minor": 5
}
