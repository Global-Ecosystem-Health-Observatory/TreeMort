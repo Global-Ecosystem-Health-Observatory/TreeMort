{
 "cells": [
  {
   "cell_type": "code",
   "execution_count": 1,
   "id": "2e751a47",
   "metadata": {},
   "outputs": [],
   "source": [
    "import os\n",
    "import sys\n",
    "\n",
    "current_dir = os.getcwd()\n",
    "\n",
    "parent_dir = os.path.abspath(os.path.join(current_dir, \"..\"))\n",
    "\n",
    "if parent_dir not in sys.path:\n",
    "    sys.path.append(parent_dir)"
   ]
  },
  {
   "cell_type": "code",
   "execution_count": 2,
   "id": "b53b66e3",
   "metadata": {},
   "outputs": [
    {
     "name": "stdout",
     "output_type": "stream",
     "text": [
      "Namespace(data_folder='/Users/anisr/Documents/AerialImages', hdf5_file='AerialImageModel_ITD.h5', model='unet', epochs=100, train_batch_size=8, val_batch_size=8, test_batch_size=8, train_crop_size=256, val_crop_size=256, test_crop_size=256, val_size=0.2, test_size=0.1, input_channels=4, output_channels=1, output_dir='../output/unet', model_weights='best', learning_rate=0.0001, threshold=0.5, activation='sigmoid', loss='hybrid', resume=True)\n"
     ]
    }
   ],
   "source": [
    "from treemort.utils.config import setup\n",
    "\n",
    "config_file_path = \"../configs/unet_bs8_cs256.txt\"\n",
    "conf = setup(config_file_path)\n",
    "\n",
    "# Modified Config Variables for Local Execution; comment on HPC\n",
    "conf.data_folder = \"/Users/anisr/Documents/AerialImages\"\n",
    "conf.output_dir = os.path.join(\"..\", conf.output_dir)\n",
    "\n",
    "print(conf)"
   ]
  },
  {
   "cell_type": "code",
   "execution_count": 4,
   "id": "a02b7c16",
   "metadata": {},
   "outputs": [
    {
     "name": "stdout",
     "output_type": "stream",
     "text": [
      "[INFO] Output directory already exists: ../output/unet\n",
      "[INFO] Using device: cpu\n",
      "[INFO] Preparing datasets...\n",
      "[INFO] Datasets prepared: Train(213), Val(61), Test(30)\n",
      "[INFO] Loading or resuming model...\n",
      "[INFO] Building model...\n",
      "[INFO] Configuring model...\n",
      "[INFO] Unet model configured.\n",
      "[INFO] Model successfully moved to cpu.\n",
      "[INFO] Adam optimizer configured with learning rate 0.0001.\n",
      "[INFO] Model, optimizer, and loss function setup complete.\n",
      "[INFO] No checkpoint found. Training from scratch.\n",
      "[INFO] Model, optimizer, criterion, and metrics are set up.\n",
      "[INFO] Setting up callbacks for 213 batches...\n",
      "[INFO] Callbacks set up: 4 callbacks configured.\n",
      "[INFO] Evaluation-only mode started.\n"
     ]
    },
    {
     "name": "stderr",
     "output_type": "stream",
     "text": [
      "Evaluating: 30it [00:20,  1.49it/s, iterations_left=-27]                    "
     ]
    },
    {
     "name": "stdout",
     "output_type": "stream",
     "text": [
      " Mean IOU Pixels: 0.300\n",
      " Mean IOU Trees: 0.302\n",
      "[INFO] Evaluation completed.\n"
     ]
    },
    {
     "name": "stderr",
     "output_type": "stream",
     "text": [
      "\n"
     ]
    }
   ],
   "source": [
    "from treemort.main import run\n",
    "\n",
    "eval_only = True\n",
    "\n",
    "run(conf, eval_only)"
   ]
  }
 ],
 "metadata": {
  "kernelspec": {
   "display_name": "Python 3 (ipykernel)",
   "language": "python",
   "name": "python3"
  },
  "language_info": {
   "codemirror_mode": {
    "name": "ipython",
    "version": 3
   },
   "file_extension": ".py",
   "mimetype": "text/x-python",
   "name": "python",
   "nbconvert_exporter": "python",
   "pygments_lexer": "ipython3",
   "version": "3.12.4"
  }
 },
 "nbformat": 4,
 "nbformat_minor": 5
}
