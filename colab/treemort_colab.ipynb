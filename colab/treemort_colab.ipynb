{
 "cells": [
  {
   "cell_type": "code",
   "execution_count": 8,
   "id": "2e751a47",
   "metadata": {},
   "outputs": [],
   "source": [
    "import os\n",
    "import sys\n",
    "\n",
    "current_dir = os.getcwd()\n",
    "\n",
    "parent_dir = os.path.abspath(os.path.join(current_dir, \"..\"))\n",
    "\n",
    "if parent_dir not in sys.path:\n",
    "    sys.path.append(parent_dir)"
   ]
  },
  {
   "cell_type": "code",
   "execution_count": 9,
   "id": "b53b66e3",
   "metadata": {},
   "outputs": [
    {
     "name": "stderr",
     "output_type": "stream",
     "text": [
      "2024-10-12 14:39:25,760 - INFO - Using config file: ../configs/flair_unet_bs8_cs256.txt\n",
      "2024-10-12 14:39:25,794 - INFO - Configuration successfully loaded.\n"
     ]
    },
    {
     "name": "stdout",
     "output_type": "stream",
     "text": [
      "Namespace(model='flair_unet', backbone=None, model_weights='best', learning_rate=0.0001, activation='sigmoid', loss='hybrid', threshold=0.5, class_weights=[0.1, 0.9], epochs=100, train_batch_size=8, val_batch_size=8, test_batch_size=8, train_crop_size=256, val_crop_size=256, test_crop_size=256, val_size=0.2, test_size=0.1, resume=False, data_folder='/Users/anisr/Documents/dead_trees/Finland/RGBNIR/25cm', hdf5_file='Finland_RGBNIRPredict_25cm.h5', input_channels=4, output_channels=1, output_dir='../output/flair_unet')\n"
     ]
    }
   ],
   "source": [
    "from treemort.utils.config import setup\n",
    "\n",
    "config_file_path = \"../configs/flair_unet_bs8_cs256.txt\"\n",
    "conf = setup(config_file_path)\n",
    "\n",
    "# Modified Config Variables for Local Execution; comment on HPC\n",
    "conf.data_folder = \"/Users/anisr/Documents/dead_trees/Finland/RGBNIR/25cm\"\n",
    "conf.output_dir = os.path.join(\"..\", conf.output_dir)\n",
    "conf.resume = False\n",
    "\n",
    "print(conf)"
   ]
  },
  {
   "cell_type": "code",
   "execution_count": 10,
   "id": "a02b7c16",
   "metadata": {},
   "outputs": [
    {
     "name": "stderr",
     "output_type": "stream",
     "text": [
      "2024-10-12 14:39:36,207 - INFO - Output directory already exists: ../output/flair_unet\n",
      "2024-10-12 14:39:36,209 - INFO - Using device: cpu\n",
      "2024-10-12 14:39:36,210 - INFO - Preparing datasets...\n",
      "2024-10-12 14:39:36,441 - INFO - Datasets prepared: Train(0), Val(20), Test(5)\n",
      "2024-10-12 14:39:36,442 - INFO - Loading or resuming model...\n",
      "2024-10-12 14:39:36,442 - INFO - Building model...\n",
      "2024-10-12 14:39:37,452 - INFO - flair_unet model configured.\n",
      "2024-10-12 14:39:37,455 - INFO - Model successfully moved to cpu.\n",
      "2024-10-12 14:39:37,456 - INFO - Adam optimizer configured with learning rate 0.0001.\n",
      "2024-10-12 14:39:37,457 - INFO - Hybrid loss and metrics (IOU, F-Score) configured.\n",
      "2024-10-12 14:39:37,457 - INFO - Training model from scratch.\n",
      "2024-10-12 14:39:37,457 - INFO - Model, optimizer, criterion, metrics, and callbacks are set up.\n",
      "2024-10-12 14:39:37,458 - INFO - Evaluation-only mode started.\n",
      "Evaluating: 100%|██████████| 5/5 [00:05<00:00,  1.10s/it, iterations_left=0]\n",
      "2024-10-12 14:39:43,055 - INFO - Mean IOU Pixels: 0.008\n",
      "2024-10-12 14:39:43,056 - INFO - Mean IOU Trees: 0.500\n",
      "2024-10-12 14:39:43,056 - INFO - Mean IOU: 0.004\n",
      "2024-10-12 14:39:43,056 - INFO - Mean Balanced IOU: 0.000\n",
      "2024-10-12 14:39:43,056 - INFO - Mean Dice Score: 0.015\n",
      "2024-10-12 14:39:43,057 - INFO - Mean Adjusted Dice Score: 0.015\n",
      "2024-10-12 14:39:43,057 - INFO - Mean MCC: 0.000\n",
      "2024-10-12 14:39:43,057 - INFO - Evaluation completed.\n"
     ]
    }
   ],
   "source": [
    "from treemort.main import run\n",
    "\n",
    "eval_only = True\n",
    "\n",
    "run(conf, eval_only)"
   ]
  }
 ],
 "metadata": {
  "kernelspec": {
   "display_name": "Python 3 (ipykernel)",
   "language": "python",
   "name": "python3"
  },
  "language_info": {
   "codemirror_mode": {
    "name": "ipython",
    "version": 3
   },
   "file_extension": ".py",
   "mimetype": "text/x-python",
   "name": "python",
   "nbconvert_exporter": "python",
   "pygments_lexer": "ipython3",
   "version": "3.12.6"
  }
 },
 "nbformat": 4,
 "nbformat_minor": 5
}
