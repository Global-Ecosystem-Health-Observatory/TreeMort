{
 "cells": [
  {
   "cell_type": "code",
   "execution_count": 1,
   "id": "2e751a47",
   "metadata": {},
   "outputs": [],
   "source": [
    "import os\n",
    "import sys\n",
    "import logging\n",
    "\n",
    "current_dir = os.getcwd()\n",
    "\n",
    "parent_dir = os.path.abspath(os.path.join(current_dir, \"..\"))\n",
    "\n",
    "if parent_dir not in sys.path:\n",
    "    sys.path.append(parent_dir)\n",
    "\n",
    "os.environ['TREEMORT_DATA_PATH'] = '/Users/anisr/Documents/dead_trees'\n",
    "\n",
    "logger = logging.getLogger()\n",
    "if not logger.hasHandlers():\n",
    "    handler = logging.StreamHandler()\n",
    "    formatter = logging.Formatter(\"%(asctime)s - %(name)s - %(levelname)s - %(message)s\")\n",
    "    handler.setFormatter(formatter)\n",
    "    logger.addHandler(handler)\n",
    "\n",
    "logger.setLevel(logging.INFO)  # Ensure INFO messages are shown"
   ]
  },
  {
   "cell_type": "code",
   "execution_count": 2,
   "id": "b53b66e3",
   "metadata": {},
   "outputs": [
    {
     "name": "stderr",
     "output_type": "stream",
     "text": [
      "2025-02-17 23:12:30,747 - treemort.utils.config - INFO - Using config file: ../configs/deeplabv3plus.txt\n",
      "2025-02-17 23:12:30,752 - treemort.utils.config - INFO - Including base config file: ../configs/base_config.txt\n",
      "2025-02-17 23:12:30,758 - treemort.utils.config - INFO - Configuration successfully loaded.\n"
     ]
    },
    {
     "name": "stdout",
     "output_type": "stream",
     "text": [
      "Namespace(model='deeplabv3+', backbone=None, model_weights='best', learning_rate=0.0001, activation='sigmoid', loss='hybrid', threshold=0.5, class_weights=[0.1, 0.9], epochs=100, train_batch_size=8, val_batch_size=8, test_batch_size=8, train_crop_size=256, val_crop_size=256, test_crop_size=256, val_size=0.2, test_size=0.1, resume=False, data_folder='/Users/anisr/Documents/dead_trees/Finland/RGBNIR/25cm', hdf5_file='Finland_RGBNIR_25cm.h5', input_channels=4, output_channels=1, output_dir='.././output/deeplabv3plus')\n"
     ]
    }
   ],
   "source": [
    "from treemort.utils.config import setup\n",
    "\n",
    "config_file_path = \"../configs/deeplabv3plus.txt\"\n",
    "conf = setup(config_file_path)\n",
    "\n",
    "# Modified Config Variables for Local Execution; comment on HPC\n",
    "conf.output_dir = os.path.join(\"..\", conf.output_dir)\n",
    "conf.resume = False\n",
    "\n",
    "print(conf)"
   ]
  },
  {
   "cell_type": "code",
   "execution_count": 3,
   "id": "a02b7c16",
   "metadata": {},
   "outputs": [
    {
     "name": "stderr",
     "output_type": "stream",
     "text": [
      "/Users/anisr/Documents/TreeSeg/venv/lib/python3.12/site-packages/tqdm/auto.py:21: TqdmWarning: IProgress not found. Please update jupyter and ipywidgets. See https://ipywidgets.readthedocs.io/en/stable/user_install.html\n",
      "  from .autonotebook import tqdm as notebook_tqdm\n",
      "2025-02-17 23:12:52,627 - treemort.main - INFO - Output directory already exists: .././output/deeplabv3plus\n",
      "2025-02-17 23:12:52,628 - treemort.main - INFO - Using device: cpu\n",
      "2025-02-17 23:12:52,629 - treemort.main - INFO - Preparing datasets...\n",
      "2025-02-17 23:12:54,660 - treemort.main - INFO - Datasets prepared: Train(172), Val(115), Test(24)\n",
      "2025-02-17 23:12:54,660 - treemort.main - INFO - Loading or resuming model...\n",
      "2025-02-17 23:12:54,661 - treemort.modeling.builder - INFO - Building model...\n",
      "2025-02-17 23:12:55,390 - treemort.modeling.model_config - INFO - deeplabv3+ model configured.\n",
      "2025-02-17 23:12:55,393 - treemort.modeling.builder - INFO - Model successfully moved to cpu.\n",
      "2025-02-17 23:12:55,394 - treemort.modeling.optimizer_loss_config - INFO - Configured AdamW with OneCycleLR scheduler (max_lr=0.0001, total_steps=17200).\n",
      "2025-02-17 23:12:55,394 - treemort.modeling.optimizer_loss_config - INFO - Configured hybrid loss using TreeMortalityLoss class (BCE, MSE, and L1-based hybrid loss).\n",
      "2025-02-17 23:12:55,395 - treemort.modeling.builder - INFO - Training model from scratch.\n",
      "2025-02-17 23:12:55,395 - treemort.main - INFO - Model, optimizer, criterion, metrics, and callbacks are set up.\n",
      "2025-02-17 23:12:55,395 - treemort.main - INFO - Evaluation-only mode started.\n",
      "2025-02-17 23:12:55,395 - treemort.evaluation.evaluator - INFO - Starting evaluation...\n",
      "2025-02-17 23:12:58,581 - treemort.evaluation.evaluator - INFO - Segmentation Metrics:\n",
      "2025-02-17 23:12:58,582 - treemort.evaluation.evaluator - INFO - iou: 0.000\n",
      "2025-02-17 23:12:58,583 - treemort.evaluation.evaluator - INFO - f1: 0.000\n",
      "2025-02-17 23:12:58,583 - treemort.evaluation.evaluator - INFO - Evaluation completed on 24 samples.\n",
      "2025-02-17 23:12:58,584 - treemort.main - INFO - Evaluation completed.\n"
     ]
    }
   ],
   "source": [
    "from treemort.main import run\n",
    "\n",
    "eval_only = True\n",
    "\n",
    "run(conf, eval_only)"
   ]
  }
 ],
 "metadata": {
  "kernelspec": {
   "display_name": "venv",
   "language": "python",
   "name": "python3"
  },
  "language_info": {
   "codemirror_mode": {
    "name": "ipython",
    "version": 3
   },
   "file_extension": ".py",
   "mimetype": "text/x-python",
   "name": "python",
   "nbconvert_exporter": "python",
   "pygments_lexer": "ipython3",
   "version": "3.12.7"
  }
 },
 "nbformat": 4,
 "nbformat_minor": 5
}
