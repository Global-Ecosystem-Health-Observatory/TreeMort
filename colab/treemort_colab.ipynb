{
 "cells": [
  {
   "cell_type": "code",
   "execution_count": null,
   "id": "2e751a47",
   "metadata": {},
   "outputs": [],
   "source": [
    "import os\n",
    "import sys\n",
    "\n",
    "current_dir = os.getcwd()\n",
    "\n",
    "parent_dir = os.path.abspath(os.path.join(current_dir, \"..\"))\n",
    "\n",
    "if parent_dir not in sys.path:\n",
    "    sys.path.append(parent_dir)"
   ]
  },
  {
   "cell_type": "code",
   "execution_count": null,
   "id": "b53b66e3",
   "metadata": {},
   "outputs": [],
   "source": [
    "from treemort.utils.config import setup\n",
    "\n",
    "config_file_path = \"../configs/beit_bs8_cs256.txt\"\n",
    "conf = setup(config_file_path)\n",
    "\n",
    "# Modified Config Variables for Local Execution; comment on HPC\n",
    "conf.data_folder = \"/Users/anisr/Documents/AerialImages\"\n",
    "conf.output_dir = os.path.join(\"..\", conf.output_dir)\n",
    "\n",
    "print(conf)"
   ]
  },
  {
   "cell_type": "code",
   "execution_count": null,
   "id": "a02b7c16",
   "metadata": {},
   "outputs": [],
   "source": [
    "from treemort.main import run\n",
    "\n",
    "eval_only = True\n",
    "\n",
    "run(conf, eval_only)"
   ]
  },
  {
   "cell_type": "code",
   "execution_count": null,
   "id": "e5694bd7",
   "metadata": {},
   "outputs": [],
   "source": []
  },
  {
   "cell_type": "code",
   "execution_count": null,
   "id": "e43a6dba",
   "metadata": {},
   "outputs": [],
   "source": [
    "import h5py\n",
    "\n",
    "from treemort.data.loader import prepare_datasets\n",
    "from treemort.utils.config import setup\n",
    "from treemort.utils.plots import plot_examples\n",
    "\n",
    "config_file_path = \"../configs/unet_bs8_cs256.txt\"\n",
    "conf = setup(config_file_path)\n",
    "\n",
    "# Modified Config Variables for Local Execution; comment on HPC\n",
    "conf.data_folder = \"/Users/anisr/Documents/AerialImages\"\n",
    "\n",
    "hdf5_file_path = os.path.join(conf.data_folder, conf.hdf5_file)\n",
    "with h5py.File(hdf5_file_path, 'r') as hf:\n",
    "    keys = list(hf.keys())\n",
    "\n",
    "train_dataset, val_dataset, test_dataset = prepare_datasets(conf)\n",
    "\n",
    "plot_examples(train_dataset, num_examples=5)"
   ]
  }
 ],
 "metadata": {
  "kernelspec": {
   "display_name": "Python 3 (ipykernel)",
   "language": "python",
   "name": "python3"
  },
  "language_info": {
   "codemirror_mode": {
    "name": "ipython",
    "version": 3
   },
   "file_extension": ".py",
   "mimetype": "text/x-python",
   "name": "python",
   "nbconvert_exporter": "python",
   "pygments_lexer": "ipython3",
   "version": "3.12.4"
  }
 },
 "nbformat": 4,
 "nbformat_minor": 5
}
