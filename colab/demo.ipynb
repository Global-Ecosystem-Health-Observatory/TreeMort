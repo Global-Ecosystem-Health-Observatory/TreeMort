{
 "cells": [
  {
   "cell_type": "code",
   "execution_count": 1,
   "metadata": {},
   "outputs": [],
   "source": [
    "import os\n",
    "import sys\n",
    "\n",
    "current_dir = os.getcwd()\n",
    "\n",
    "parent_dir = os.path.abspath(os.path.join(current_dir, \"..\"))\n",
    "\n",
    "if parent_dir not in sys.path:\n",
    "    sys.path.append(parent_dir)"
   ]
  },
  {
   "cell_type": "code",
   "execution_count": 2,
   "metadata": {},
   "outputs": [
    {
     "name": "stdout",
     "output_type": "stream",
     "text": [
      "Namespace(data_folder='/Users/anisr/Documents/AerialImages', hdf5_file='AerialImageModel_ITD.h5', model='flair_unet', backbone=None, epochs=100, train_batch_size=8, val_batch_size=8, test_batch_size=8, train_crop_size=256, val_crop_size=256, test_crop_size=256, val_size=0.2, test_size=0.1, input_channels=4, output_channels=1, output_dir='../output/flair_unet', model_weights='best', learning_rate=0.0001, threshold=0.5, activation='tanh', loss='hybrid', resume=True)\n"
     ]
    }
   ],
   "source": [
    "from treemort.utils.config import setup\n",
    "\n",
    "config_file_path = \"../configs/flair_unet_bs8_cs256.txt\"\n",
    "conf = setup(config_file_path)\n",
    "\n",
    "# Modified Config Variables for Local Execution; comment on HPC\n",
    "conf.data_folder = \"/Users/anisr/Documents/AerialImages\"\n",
    "conf.output_dir = os.path.join(\"..\", conf.output_dir)\n",
    "\n",
    "print(conf)"
   ]
  },
  {
   "cell_type": "code",
   "execution_count": 3,
   "metadata": {},
   "outputs": [],
   "source": [
    "import torch\n",
    "import numpy as np\n",
    "from skimage.measure import label, regionprops\n",
    "from tqdm import tqdm\n",
    "\n",
    "from treemort.training.output_processing import process_model_output\n",
    "\n",
    "def calculate_geometric_properties(predictions):\n",
    "    \"\"\"\n",
    "    Calculate basic geometric properties for each segmented dead tree.\n",
    "    \n",
    "    Args:\n",
    "        predictions (torch.Tensor): A batch of binary segmentation masks of shape (N, H, W),\n",
    "                                    where N is the batch size, H is height, and W is width.\n",
    "                                    \n",
    "    Returns:\n",
    "        List of dictionaries containing geometric properties for each segmented object.\n",
    "    \"\"\"\n",
    "    batch_properties = []\n",
    "    \n",
    "    # Convert tensor to numpy array for processing\n",
    "    predictions = predictions.detach().cpu().numpy()\n",
    "    \n",
    "    for i in range(predictions.shape[0]):\n",
    "        # Get binary mask for current prediction\n",
    "        binary_mask = predictions[i].squeeze().astype(np.uint8)\n",
    "        \n",
    "        # Label connected components in the binary mask\n",
    "        labeled_mask = label(binary_mask)\n",
    "        \n",
    "        # Extract properties for each labeled region (i.e., each dead tree)\n",
    "        regions = regionprops(labeled_mask)\n",
    "        image_properties = []\n",
    "        \n",
    "        for region in regions:\n",
    "            properties = {\n",
    "                'Area': region.area,\n",
    "                'Perimeter': region.perimeter,\n",
    "                'Centroid': region.centroid,\n",
    "                'BoundingBox': region.bbox,\n",
    "                'AspectRatio': region.bbox[2] / region.bbox[3] if region.bbox[3] != 0 else 0\n",
    "            }\n",
    "            image_properties.append(properties)\n",
    "        \n",
    "        batch_properties.append(image_properties)\n",
    "    \n",
    "    return batch_properties\n",
    "\n",
    "\n",
    "def evaluate_geometric_properties(model, data_loader, conf, device, image_processor, ):\n",
    "    \"\"\"\n",
    "    Evaluate geometric properties for the entire dataset using the trained model.\n",
    "    \n",
    "    Args:\n",
    "        model: Trained segmentation model.\n",
    "        data_loader: DataLoader for the dataset.\n",
    "        conf: Configuration dictionary or object.\n",
    "        device: Device to run the model on (e.g., 'cpu' or 'cuda').\n",
    "        image_processor: Function or class to process model outputs.\n",
    "    \n",
    "    Returns:\n",
    "        List of dictionaries containing geometric properties for all images in the dataset.\n",
    "    \"\"\"\n",
    "    model.eval()\n",
    "    all_geometric_properties = []\n",
    "    all_geometric_properties_labels = []\n",
    "    \n",
    "    with torch.no_grad():\n",
    "        for images, labels in tqdm(data_loader, desc=\"Evaluating\"):\n",
    "            images = images.to(device)\n",
    "            \n",
    "            # Get model predictions\n",
    "            predictions = process_model_output(model, images, conf, image_processor, labels, device=device)\n",
    "            \n",
    "            # Apply thresholding to get binary segmentation masks\n",
    "            binary_masks = (predictions > 0.5).float()\n",
    "            binary_labels = (labels > 0.5).float()\n",
    "            \n",
    "            # Calculate geometric properties\n",
    "            geometric_properties = calculate_geometric_properties(binary_masks)\n",
    "            all_geometric_properties.extend(geometric_properties)\n",
    "\n",
    "            # Calculate geometric properties for labels\n",
    "            geometric_properties = calculate_geometric_properties(binary_labels)\n",
    "            all_geometric_properties_labels.extend(geometric_properties)\n",
    "    \n",
    "    return all_geometric_properties, all_geometric_properties_labels\n"
   ]
  },
  {
   "cell_type": "code",
   "execution_count": 4,
   "metadata": {},
   "outputs": [
    {
     "name": "stderr",
     "output_type": "stream",
     "text": [
      "/Users/anisr/Documents/TreeSeg/venv/lib/python3.12/site-packages/tqdm/auto.py:21: TqdmWarning: IProgress not found. Please update jupyter and ipywidgets. See https://ipywidgets.readthedocs.io/en/stable/user_install.html\n",
      "  from .autonotebook import tqdm as notebook_tqdm\n"
     ]
    },
    {
     "name": "stdout",
     "output_type": "stream",
     "text": [
      "[INFO] Building model...\n",
      "[INFO] FLAIR-UNet model configured with pre-trained weights.\n",
      "[INFO] flair_unet model configured.\n",
      "[INFO] Model successfully moved to cpu.\n",
      "[INFO] Adam optimizer configured with learning rate 0.0001.\n",
      "[INFO] Loss function 'hybrid' and associated metrics configured.\n",
      "[INFO] Loaded weights from ../output/flair_unet/best.weights.pth.\n"
     ]
    }
   ],
   "source": [
    "from treemort.data.loader import prepare_datasets\n",
    "from treemort.modeling.builder import resume_or_load\n",
    "\n",
    "id2label = {0: \"alive\", 1: \"dead\"}\n",
    "\n",
    "device = torch.device(\"cuda\" if torch.cuda.is_available() else \"cpu\")\n",
    "\n",
    "train_dataset, val_dataset, test_dataset, image_processor = prepare_datasets(conf)\n",
    "\n",
    "model, optimizer, criterion, metrics, callbacks = resume_or_load(conf, id2label, len(train_dataset), device)    \n"
   ]
  },
  {
   "cell_type": "code",
   "execution_count": 5,
   "metadata": {},
   "outputs": [
    {
     "name": "stderr",
     "output_type": "stream",
     "text": [
      "Evaluating: 100%|██████████| 76/76 [01:09<00:00,  1.10it/s, iterations_left=0] "
     ]
    },
    {
     "name": "stdout",
     "output_type": "stream",
     "text": [
      "[0.0, 0.0, 0.0, 0.0, 0.0, 0.0, 0.0, 0.0, 0.0, 0.0, 0.0, 0.0, 0.0, 0.0, 0.0, 0.0, 0.0, 0.0, 0.0, 0.0, 0.0, 0.0, 0.0, 0.0, 0.0, 0.0, 0.0, 0.0, 0.0, 0.0, 0.0, 0.0, 0.0, 0.0, 0.0, 0.0, 0.0, 0.0, 0.0, 0.0, 0.0, 0.0, 0.0, 0.0, 0.0, 2.5839793214884254e-09, 0.0, 9.250693793477618e-10, 1.0090817346023393e-09, 3.3670033556666553e-09, 0.0, 0.0, 0.0, 0.0, 0.0, 0.0, 0.0, 0.0, 0.0, 0.0, 0.0, 0.0, 0.0, 2.3474178348652164e-09, 2.3474178348652164e-09, 0.0, 0.0, 0.0, 0.0, 0.0, 0.0, 0.0, 0.0, 0.0, 0.0, 0.0, 0.0, 1.019367990805945e-09, 5.282620176818478e-10, 0.0, 8.012820506399982e-10, 2.9761904673327665e-09, 0.0, 0.0, 0.0, 0.0, 0.0, 0.0, 0.0, 0.0, 0.0, 0.0, 0.0, 0.0, 0.0, 2.3474178348652164e-09, 2.3474178348652164e-09, 0.0, 0.0, 0.0, 0.0, 0.0, 0.0, 0.0, 0.0, 0.0, 0.0, 0.0, 0.0, 1.6835016806675055e-09, 1.2315270920794002e-09, 3.891050568517313e-09, 0.0, 0.0, 2.5641024983563464e-08, 0.0, 0.0, 1.149425274144537e-08, 0.0, 0.0, 0.0, 0.0, 0.0, 0.0, 0.0, 4.0485829795603925e-09, 4.0485829795603925e-09, 0.0, 1.8416206227594464e-09, 1.5384615360946745e-09, 9.345794305179493e-09, 0.0, 0.0, 0.0, 0.0, 0.0, 0.0, 0.0, 0.0, 0.0, 0.0, 0.0, 0.0, 0.0, 0.0, 0.0, 0.0, 0.0, 0.0, 1.149425274144537e-08, 0.0, 0.0, 0.0, 0.0, 0.0, 0.0, 4.0485829795603925e-09, 0.0, 4.0485829795603925e-09, 3.846153831360947e-09, 2.4807740008730404e-10, 2.5786487873701267e-10, 9.345794305179493e-09, 3.4482757431629055e-08, 1.6666666388888892e-08, 3.225806347554634e-08, 0.0, 0.0, 0.0, 0.0, 0.0, 0.0, 0.0, 0.0, 0.0, 0.0, 0.0, 0.0, 0.0, 0.0, 0.0, 1.562499975585938e-08, 1.562499975585938e-08, 0.0, 0.0, 0.0, 0.0, 0.0, 0.0, 5.12820510190664e-09, 0.0, 2.197802192971863e-09, 2.6096033396112726e-10, 2.799552070884784e-10, 0.0, 3.4482757431629055e-08, 1.6666666388888892e-08, 3.225806347554634e-08, 0.0, 0.0, 0.0, 0.0, 0.0, 0.0, 0.0, 0.0, 0.0, 6.024096349252431e-09, 6.024096349252431e-09, 0.0, 0.0, 0.0, 0.0, 1.562499975585938e-08, 1.562499975585938e-08, 0.0, 0.0, 0.0, 0.0, 0.0, 1.4084506843880184e-08, 3.759398482107525e-09, 5.12820510190664e-09, 0.0, 0.0, 2.9069767357355326e-09, 2.9069767357355326e-09, 0.0, 0.0, 0.0, 0.0, 4.065040633881948e-09, 4.065040633881948e-09, 0.0, 0.0, 0.0, 4.184100400903345e-09, 2.590673568417944e-09, 6.80272104215836e-09, 0.0, 1.379310342925089e-09, 1.379310342925089e-09, 0.0, 0.0, 0.0, 0.0, 0.0, 0.0, 0.0, 0.0, 0.0, 0.0, 2.3752969064719787e-09, 7.867820607499747e-10, 1.176470586851211e-09, 0.0, 0.0, 0.0, 0.0, 0.0, 0.0, 0.0, 0.0, 3.289473673389889e-09, 3.289473673389889e-09, 0.0, 0.0, 4.184100400903345e-09, 0.0, 2.590673568417944e-09, 6.80272104215836e-09, 1.7985611478443144e-09, 8.968609857427255e-10, 1.788908762452757e-09, 0.0, 0.0, 0.0, 0.0, 0.0, 0.0, 0.0, 0.0, 0.0, 0.0, 2.3752969064719787e-09, 8.333333326388888e-10, 1.2836970458489125e-09, 0.0, 0.0, 0.0, 5.555555246913597e-08, 0.0, 0.0, 0.0, 0.0, 1.724137901307967e-08, 1.724137901307967e-08, 0.0, 0.0, 0.0, 0.0, 2.38095232426304e-08, 0.0, 1.7985611478443144e-09, 1.7985611478443144e-09, 0.0, 0.0, 0.0, 0.0, 0.0, 0.0, 0.0, 4.166666493055563e-08, 0.0, 0.0, 0.0, 0.0, 0.0, 0.0, 0.0, 0.0, 0.0, 0.0, 0.0, 0.0, 0.0, 0.0, 0.0, 0.0, 0.0, 0.0, 1.9417475690451502e-09, 1.6863406379656987e-09, 1.2820512656147274e-08, 0.0, 0.0, 0.0, 0.0, 0.0, 0.0, 0.0, 0.0, 0.0, 0.0, 0.0, 0.0, 0.0, 0.0, 0.0, 0.0, 0.0, 0.0, 0.0, 0.0, 0.0, 0.0, 0.0, 0.0, 0.0, 0.0, 0.0, 0.0, 0.0, 0.0, 1.915708808590596e-09, 1.6666666638888887e-09, 1.2820512656147274e-08, 0.0, 0.0, 0.0, 0.0, 0.0, 0.0, 0.0, 0.0, 0.0, 0.0, 0.0, 0.0, 0.0, 0.0, 0.0, 0.0, 0.0, 0.0, 0.0, 0.0, 0.0, 0.0, 0.0, 0.0, 0.0, 0.0, 0.0, 0.0, 0.0, 1.428571224489825e-07, 1.428571224489825e-07, 0.0, 0.0, 0.0, 0.0, 0.0, 0.0, 0.0, 0.0, 0.0, 0.0, 0.0, 0.0, 0.0, 0.0, 0.0, 0.0, 0.0, 0.0, 0.0, 0.0, 0.0, 0.0, 0.0, 0.0, 0.0, 0.0, 0.0, 6.578947325138505e-09, 6.578947325138505e-09, 0.0, 0.0, 0.0, 0.0, 0.0, 0.0, 0.0, 0.0, 0.0, 0.0, 0.0, 0.0, 0.0, 0.0, 0.0, 2.7100270929267557e-09, 2.7100270929267557e-09, 0.0, 0.0, 0.0, 0.0, 0.0, 0.0, 0.0, 0.0, 0.0, 0.0, 0.0, 0.0, 0.0, 0.0, 6.578947325138505e-09, 6.578947325138505e-09, 0.0, 0.0, 0.0, 0.0, 0.0, 0.0, 0.0, 0.0, 0.0, 0.0, 0.0, 1.1764705743944639e-08, 4.34782606805293e-09, 6.8965516765755055e-09, 0.0, 1.6806722660829037e-09, 1.6806722660829037e-09, 0.0, 0.0, 0.0, 0.0, 0.0, 0.0, 0.0, 0.0, 0.0, 0.0, 0.0, 0.0, 0.0, 0.0, 0.0, 0.0, 0.0, 0.0, 0.0, 0.0, 0.0, 0.0, 0.0, 0.0, 0.0, 0.0, 1.1764705743944639e-08, 4.34782606805293e-09, 6.8965516765755055e-09, 0.0, 4.4247787414832795e-09, 4.4247787414832795e-09, 0.0, 0.0, 0.0, 0.0, 0.0, 0.0, 0.0, 0.0, 0.0, 0.0, 0.0, 0.0, 0.0, 0.0, 0.0, 0.0, 0.0, 0.0, 0.0, 0.0, 0.0, 0.0, 4.115226320513472e-09, 4.115226320513472e-09, 0.0, 0.0, 0.0, 0.0, 0.0, 0.0, 0.0, 0.0, 0.0, 0.0, 0.0, 0.0, 0.0, 0.0, 0.0, 0.0, 0.0, 0.0, 0.0, 0.0, 0.0, 0.0, 0.0, 0.0, 0.0, 0.0, 0.0, 0.0, 0.0, 0.0, 0.0, 4.115226320513472e-09, 4.115226320513472e-09, 4.484304912626435e-09, 0.0, 0.0, 0.0, 0.0, 0.0, 0.0, 0.0, 0.0, 0.0, 5.555555246913597e-08, 0.0, 0.0, 0.0, 0.0, 0.0, 0.0, 0.0, 0.0, 0.0, 0.0, 2.38095232426304e-08, 0.0, 0.0, 0.0, 0.0, 0.0, 0.0, 0.0, 0.0, 0.0, 0.0, 4.166666493055563e-08, 0.0, 0.0, 0.0, 0.0, 0.0, 0.0, 0.0, 0.0, 0.0]\n",
      " Mean IOU Pixels: 0.000\n",
      " Mean IOU Trees: 0.819\n",
      " Mean IOU: 0.909\n",
      " Mean Balanced IOU: 0.997\n",
      " Mean Dice Score: 0.000\n",
      " Mean Adjusted Dice Score: 0.819\n",
      " Mean MCC: 0.000\n"
     ]
    },
    {
     "name": "stderr",
     "output_type": "stream",
     "text": [
      "\n"
     ]
    }
   ],
   "source": [
    "from treemort.evaluation.evaluator import evaluator\n",
    "\n",
    "evaluator(\n",
    "            model,\n",
    "            dataset=test_dataset,\n",
    "            num_samples=len(test_dataset),\n",
    "            batch_size=conf.test_batch_size,\n",
    "            threshold=conf.threshold,\n",
    "            model_name=conf.model,\n",
    "            image_processor=image_processor,\n",
    "        )"
   ]
  },
  {
   "cell_type": "code",
   "execution_count": 25,
   "metadata": {},
   "outputs": [
    {
     "name": "stderr",
     "output_type": "stream",
     "text": [
      "Evaluating: 100%|██████████| 76/76 [05:15<00:00,  4.15s/it]\n"
     ]
    }
   ],
   "source": [
    "geometric_properties, geometric_properties_labels = evaluate_geometric_properties(model, test_dataset, conf, device, image_processor)"
   ]
  },
  {
   "cell_type": "code",
   "execution_count": 31,
   "metadata": {},
   "outputs": [
    {
     "name": "stdout",
     "output_type": "stream",
     "text": [
      "45 [{'Area': 80.0, 'Perimeter': 32.242640687119284, 'Centroid': (211.375, 252.1375), 'BoundingBox': (206, 249, 218, 256), 'AspectRatio': 0.8515625}, {'Area': 307.0, 'Perimeter': 70.04163056034261, 'Centroid': (248.01954397394138, 239.62540716612378), 'BoundingBox': (238, 230, 256, 254), 'AspectRatio': 1.0078740157480315}]\n",
      "47 [{'Area': 98.0, 'Perimeter': 34.72792206135785, 'Centroid': (187.4387755102041, 135.62244897959184), 'BoundingBox': (182, 131, 194, 141), 'AspectRatio': 1.375886524822695}, {'Area': 274.0, 'Perimeter': 76.38477631085024, 'Centroid': (206.8905109489051, 130.6897810218978), 'BoundingBox': (196, 121, 218, 141), 'AspectRatio': 1.5460992907801419}, {'Area': 146.0, 'Perimeter': 42.72792206135786, 'Centroid': (225.3972602739726, 142.23972602739727), 'BoundingBox': (219, 137, 233, 149), 'AspectRatio': 1.563758389261745}, {'Area': 256.0, 'Perimeter': 73.11269837220809, 'Centroid': (243.3203125, 152.8671875), 'BoundingBox': (231, 145, 256, 161), 'AspectRatio': 1.5900621118012421}, {'Area': 307.0, 'Perimeter': 70.04163056034261, 'Centroid': (248.01954397394138, 111.62540716612378), 'BoundingBox': (238, 102, 256, 126), 'AspectRatio': 2.0317460317460316}]\n",
      "48 [{'Area': 98.0, 'Perimeter': 34.72792206135785, 'Centroid': (187.4387755102041, 7.622448979591836), 'BoundingBox': (182, 3, 194, 13), 'AspectRatio': 14.923076923076923}, {'Area': 194.0, 'Perimeter': 64.14213562373095, 'Centroid': (205.04123711340208, 5.391752577319588), 'BoundingBox': (196, 0, 218, 13), 'AspectRatio': 16.76923076923077}, {'Area': 146.0, 'Perimeter': 42.72792206135786, 'Centroid': (225.3972602739726, 14.23972602739726), 'BoundingBox': (219, 9, 233, 21), 'AspectRatio': 11.095238095238095}, {'Area': 247.0, 'Perimeter': 58.2842712474619, 'Centroid': (229.7004048582996, 148.53846153846155), 'BoundingBox': (221, 140, 239, 158), 'AspectRatio': 1.5126582278481013}, {'Area': 256.0, 'Perimeter': 73.11269837220809, 'Centroid': (243.3203125, 24.8671875), 'BoundingBox': (231, 17, 256, 33), 'AspectRatio': 7.757575757575758}, {'Area': 50.0, 'Perimeter': 27.071067811865476, 'Centroid': (253.06, 159.24), 'BoundingBox': (250, 154, 256, 165), 'AspectRatio': 1.5515151515151515}]\n",
      "49 [{'Area': 247.0, 'Perimeter': 58.2842712474619, 'Centroid': (229.7004048582996, 20.53846153846154), 'BoundingBox': (221, 12, 239, 30), 'AspectRatio': 7.966666666666667}, {'Area': 50.0, 'Perimeter': 27.071067811865476, 'Centroid': (253.06, 31.24), 'BoundingBox': (250, 26, 256, 37), 'AspectRatio': 6.918918918918919}]\n",
      "63 [{'Area': 426.0, 'Perimeter': 75.84062043356595, 'Centroid': (187.30751173708921, 183.65258215962442), 'BoundingBox': (175, 172, 200, 196), 'AspectRatio': 1.0204081632653061}]\n",
      "64 [{'Area': 426.0, 'Perimeter': 75.84062043356595, 'Centroid': (187.30751173708921, 55.652582159624416), 'BoundingBox': (175, 44, 200, 68), 'AspectRatio': 2.9411764705882355}]\n",
      "77 [{'Area': 80.0, 'Perimeter': 32.242640687119284, 'Centroid': (83.375, 252.1375), 'BoundingBox': (78, 249, 90, 256), 'AspectRatio': 0.3515625}, {'Area': 407.0, 'Perimeter': 77.35533905932738, 'Centroid': (122.45208845208845, 240.55528255528256), 'BoundingBox': (110, 230, 134, 254), 'AspectRatio': 0.5275590551181102}, {'Area': 207.0, 'Perimeter': 52.04163056034261, 'Centroid': (152.33816425120773, 232.8743961352657), 'BoundingBox': (144, 225, 161, 241), 'AspectRatio': 0.6680497925311203}, {'Area': 287.0, 'Perimeter': 62.04163056034261, 'Centroid': (208.3554006968641, 234.54355400696863), 'BoundingBox': (199, 227, 220, 244), 'AspectRatio': 0.9016393442622951}]\n",
      "78 [{'Area': 98.0, 'Perimeter': 34.72792206135785, 'Centroid': (59.43877551020408, 135.62244897959184), 'BoundingBox': (54, 131, 66, 141), 'AspectRatio': 0.46808510638297873}, {'Area': 274.0, 'Perimeter': 76.38477631085024, 'Centroid': (78.8905109489051, 130.6897810218978), 'BoundingBox': (68, 121, 90, 141), 'AspectRatio': 0.6382978723404256}, {'Area': 146.0, 'Perimeter': 42.72792206135786, 'Centroid': (97.3972602739726, 142.23972602739727), 'BoundingBox': (91, 137, 105, 149), 'AspectRatio': 0.7046979865771812}, {'Area': 284.0, 'Perimeter': 77.59797974644667, 'Centroid': (116.6830985915493, 152.59859154929578), 'BoundingBox': (103, 145, 132, 161), 'AspectRatio': 0.8198757763975155}, {'Area': 407.0, 'Perimeter': 77.35533905932738, 'Centroid': (122.45208845208845, 112.55528255528256), 'BoundingBox': (110, 102, 134, 126), 'AspectRatio': 1.0634920634920635}, {'Area': 207.0, 'Perimeter': 52.04163056034261, 'Centroid': (152.33816425120773, 104.8743961352657), 'BoundingBox': (144, 97, 161, 113), 'AspectRatio': 1.424778761061947}, {'Area': 92.0, 'Perimeter': 33.31370849898476, 'Centroid': (156.94565217391303, 219.55434782608697), 'BoundingBox': (153, 214, 162, 226), 'AspectRatio': 0.7168141592920354}, {'Area': 46.0, 'Perimeter': 22.48528137423857, 'Centroid': (159.30434782608697, 233.19565217391303), 'BoundingBox': (156, 230, 163, 238), 'AspectRatio': 0.6848739495798319}, {'Area': 52.0, 'Perimeter': 24.727922061357855, 'Centroid': (165.30769230769232, 224.03846153846155), 'BoundingBox': (162, 220, 170, 229), 'AspectRatio': 0.74235807860262}, {'Area': 287.0, 'Perimeter': 62.04163056034261, 'Centroid': (208.3554006968641, 106.54355400696865), 'BoundingBox': (199, 99, 220, 116), 'AspectRatio': 1.896551724137931}]\n",
      "80 [{'Area': 98.0, 'Perimeter': 34.72792206135785, 'Centroid': (59.43877551020408, 7.622448979591836), 'BoundingBox': (54, 3, 66, 13), 'AspectRatio': 5.076923076923077}, {'Area': 194.0, 'Perimeter': 64.14213562373095, 'Centroid': (77.04123711340206, 5.391752577319588), 'BoundingBox': (68, 0, 90, 13), 'AspectRatio': 6.923076923076923}, {'Area': 146.0, 'Perimeter': 42.72792206135786, 'Centroid': (97.3972602739726, 14.23972602739726), 'BoundingBox': (91, 9, 105, 21), 'AspectRatio': 5.0}, {'Area': 247.0, 'Perimeter': 58.2842712474619, 'Centroid': (101.70040485829959, 148.53846153846155), 'BoundingBox': (93, 140, 111, 158), 'AspectRatio': 0.7025316455696202}, {'Area': 284.0, 'Perimeter': 77.59797974644667, 'Centroid': (116.6830985915493, 24.598591549295776), 'BoundingBox': (103, 17, 132, 33), 'AspectRatio': 4.0}, {'Area': 89.0, 'Perimeter': 34.14213562373095, 'Centroid': (127.01123595505618, 158.93258426966293), 'BoundingBox': (122, 154, 133, 165), 'AspectRatio': 0.806060606060606}, {'Area': 92.0, 'Perimeter': 33.31370849898476, 'Centroid': (156.94565217391303, 91.55434782608695), 'BoundingBox': (153, 86, 162, 98), 'AspectRatio': 1.653061224489796}, {'Area': 46.0, 'Perimeter': 22.48528137423857, 'Centroid': (159.30434782608697, 105.19565217391305), 'BoundingBox': (156, 102, 163, 110), 'AspectRatio': 1.481818181818182}, {'Area': 52.0, 'Perimeter': 24.727922061357855, 'Centroid': (165.30769230769232, 96.03846153846153), 'BoundingBox': (162, 92, 170, 101), 'AspectRatio': 1.683168316831683}]\n",
      "81 [{'Area': 247.0, 'Perimeter': 58.2842712474619, 'Centroid': (101.70040485829959, 20.53846153846154), 'BoundingBox': (93, 12, 111, 30), 'AspectRatio': 3.7}, {'Area': 89.0, 'Perimeter': 34.14213562373095, 'Centroid': (127.01123595505618, 30.93258426966292), 'BoundingBox': (122, 26, 133, 37), 'AspectRatio': 3.5945945945945947}]\n",
      "95 [{'Area': 426.0, 'Perimeter': 75.84062043356595, 'Centroid': (59.3075117370892, 183.65258215962442), 'BoundingBox': (47, 172, 72, 196), 'AspectRatio': 0.3673469387755102}]\n",
      "96 [{'Area': 426.0, 'Perimeter': 75.84062043356595, 'Centroid': (59.3075117370892, 55.652582159624416), 'BoundingBox': (47, 44, 72, 68), 'AspectRatio': 1.0588235294117647}]\n",
      "109 [{'Area': 100.0, 'Perimeter': 47.89949493661166, 'Centroid': (1.92, 243.41), 'BoundingBox': (0, 232, 6, 254), 'AspectRatio': 0.023622047244094488}, {'Area': 207.0, 'Perimeter': 52.04163056034261, 'Centroid': (24.33816425120773, 232.8743961352657), 'BoundingBox': (16, 225, 33, 241), 'AspectRatio': 0.13692946058091288}, {'Area': 287.0, 'Perimeter': 62.04163056034261, 'Centroid': (80.35540069686411, 234.54355400696863), 'BoundingBox': (71, 227, 92, 244), 'AspectRatio': 0.3770491803278688}]\n",
      "110 [{'Area': 100.0, 'Perimeter': 47.89949493661166, 'Centroid': (1.92, 115.41), 'BoundingBox': (0, 104, 6, 126), 'AspectRatio': 0.047619047619047616}, {'Area': 28.0, 'Perimeter': 18.86396103067893, 'Centroid': (1.1428571428571428, 150.14285714285714), 'BoundingBox': (0, 145, 4, 155), 'AspectRatio': 0.025806451612903226}, {'Area': 207.0, 'Perimeter': 52.04163056034261, 'Centroid': (24.33816425120773, 104.8743961352657), 'BoundingBox': (16, 97, 33, 113), 'AspectRatio': 0.2920353982300885}, {'Area': 92.0, 'Perimeter': 33.31370849898476, 'Centroid': (28.945652173913043, 219.55434782608697), 'BoundingBox': (25, 214, 34, 226), 'AspectRatio': 0.1504424778761062}, {'Area': 46.0, 'Perimeter': 22.48528137423857, 'Centroid': (31.304347826086957, 233.19565217391303), 'BoundingBox': (28, 230, 35, 238), 'AspectRatio': 0.14705882352941177}, {'Area': 52.0, 'Perimeter': 24.727922061357855, 'Centroid': (37.30769230769231, 224.03846153846155), 'BoundingBox': (34, 220, 42, 229), 'AspectRatio': 0.18340611353711792}, {'Area': 287.0, 'Perimeter': 62.04163056034261, 'Centroid': (80.35540069686411, 106.54355400696865), 'BoundingBox': (71, 99, 92, 116), 'AspectRatio': 0.7931034482758621}]\n",
      "111 [{'Area': 28.0, 'Perimeter': 18.86396103067893, 'Centroid': (1.1428571428571428, 22.142857142857142), 'BoundingBox': (0, 17, 4, 27), 'AspectRatio': 0.14814814814814814}, {'Area': 39.0, 'Perimeter': 23.65685424949238, 'Centroid': (1.5128205128205128, 158.53846153846155), 'BoundingBox': (0, 154, 5, 164), 'AspectRatio': 0.03048780487804878}, {'Area': 92.0, 'Perimeter': 33.31370849898476, 'Centroid': (28.945652173913043, 91.55434782608695), 'BoundingBox': (25, 86, 34, 98), 'AspectRatio': 0.3469387755102041}, {'Area': 46.0, 'Perimeter': 22.48528137423857, 'Centroid': (31.304347826086957, 105.19565217391305), 'BoundingBox': (28, 102, 35, 110), 'AspectRatio': 0.3181818181818182}, {'Area': 52.0, 'Perimeter': 24.727922061357855, 'Centroid': (37.30769230769231, 96.03846153846153), 'BoundingBox': (34, 92, 42, 101), 'AspectRatio': 0.4158415841584158}]\n",
      "114 [{'Area': 39.0, 'Perimeter': 23.65685424949238, 'Centroid': (1.5128205128205128, 30.53846153846154), 'BoundingBox': (0, 26, 5, 36), 'AspectRatio': 0.1388888888888889}]\n",
      "117 [{'Area': 87.0, 'Perimeter': 32.72792206135786, 'Centroid': (172.95402298850576, 69.82758620689656), 'BoundingBox': (168, 65, 179, 75), 'AspectRatio': 2.3866666666666667}]\n",
      "125 [{'Area': 132.0, 'Perimeter': 39.798989873223334, 'Centroid': (198.34848484848484, 218.97727272727272), 'BoundingBox': (192, 213, 205, 226), 'AspectRatio': 0.9070796460176991}, {'Area': 115.0, 'Perimeter': 37.55634918610404, 'Centroid': (226.9391304347826, 233.81739130434784), 'BoundingBox': (221, 229, 234, 240), 'AspectRatio': 0.975}]\n",
      "126 [{'Area': 132.0, 'Perimeter': 39.798989873223334, 'Centroid': (198.34848484848484, 90.97727272727273), 'BoundingBox': (192, 85, 205, 98), 'AspectRatio': 2.0918367346938775}, {'Area': 115.0, 'Perimeter': 37.55634918610404, 'Centroid': (226.9391304347826, 105.81739130434782), 'BoundingBox': (221, 101, 234, 112), 'AspectRatio': 2.0892857142857144}]\n",
      "128 [{'Area': 114.0, 'Perimeter': 44.142135623730944, 'Centroid': (199.640350877193, 252.140350877193), 'BoundingBox': (190, 248, 209, 256), 'AspectRatio': 0.81640625}, {'Area': 288.0, 'Perimeter': 61.112698372208094, 'Centroid': (227.88541666666666, 165.43402777777777), 'BoundingBox': (219, 156, 239, 175), 'AspectRatio': 1.3657142857142857}, {'Area': 141.0, 'Perimeter': 45.349242404917504, 'Centroid': (250.8368794326241, 159.60992907801418), 'BoundingBox': (245, 151, 256, 168), 'AspectRatio': 1.5238095238095237}]\n",
      "129 [{'Area': 221.0, 'Perimeter': 53.698484809834994, 'Centroid': (199.32579185520362, 127.3529411764706), 'BoundingBox': (190, 120, 209, 136), 'AspectRatio': 1.536764705882353}, {'Area': 288.0, 'Perimeter': 61.112698372208094, 'Centroid': (227.88541666666666, 37.43402777777778), 'BoundingBox': (219, 28, 239, 47), 'AspectRatio': 5.085106382978723}, {'Area': 141.0, 'Perimeter': 45.349242404917504, 'Centroid': (250.8368794326241, 31.609929078014183), 'BoundingBox': (245, 23, 256, 40), 'AspectRatio': 6.4}]\n",
      "130 [{'Area': 107.0, 'Perimeter': 43.14213562373095, 'Centroid': (198.99065420560748, 2.7757009345794392), 'BoundingBox': (190, 0, 209, 8), 'AspectRatio': 26.125}]\n",
      "149 [{'Area': 87.0, 'Perimeter': 32.72792206135786, 'Centroid': (44.95402298850575, 69.82758620689656), 'BoundingBox': (40, 65, 51, 75), 'AspectRatio': 0.68}]\n",
      "156 [{'Area': 132.0, 'Perimeter': 39.798989873223334, 'Centroid': (70.34848484848484, 218.97727272727272), 'BoundingBox': (64, 213, 77, 226), 'AspectRatio': 0.3407079646017699}, {'Area': 115.0, 'Perimeter': 37.55634918610404, 'Centroid': (98.93913043478261, 233.81739130434784), 'BoundingBox': (93, 229, 106, 240), 'AspectRatio': 0.44166666666666665}]\n",
      "158 [{'Area': 132.0, 'Perimeter': 39.798989873223334, 'Centroid': (70.34848484848484, 90.97727272727273), 'BoundingBox': (64, 85, 77, 98), 'AspectRatio': 0.7857142857142857}, {'Area': 115.0, 'Perimeter': 37.55634918610404, 'Centroid': (98.93913043478261, 105.81739130434782), 'BoundingBox': (93, 101, 106, 112), 'AspectRatio': 0.9464285714285714}]\n",
      "159 [{'Area': 260.0, 'Perimeter': 71.00609665440987, 'Centroid': (154.8, 250.55769230769232), 'BoundingBox': (139, 244, 169, 256), 'AspectRatio': 0.66015625}]\n",
      "160 [{'Area': 114.0, 'Perimeter': 44.142135623730944, 'Centroid': (71.64035087719299, 252.140350877193), 'BoundingBox': (62, 248, 81, 256), 'AspectRatio': 0.31640625}, {'Area': 288.0, 'Perimeter': 61.112698372208094, 'Centroid': (99.88541666666667, 165.43402777777777), 'BoundingBox': (91, 156, 111, 175), 'AspectRatio': 0.6342857142857142}, {'Area': 401.0, 'Perimeter': 75.94112549695429, 'Centroid': (130.58104738154614, 158.78802992518703), 'BoundingBox': (117, 149, 144, 168), 'AspectRatio': 0.8571428571428571}, {'Area': 572.0, 'Perimeter': 89.35533905932738, 'Centroid': (154.00874125874125, 128.2097902097902), 'BoundingBox': (139, 116, 169, 140), 'AspectRatio': 1.207142857142857}, {'Area': 403.0, 'Perimeter': 73.698484809835, 'Centroid': (152.13895781637717, 201.8163771712159), 'BoundingBox': (140, 192, 165, 212), 'AspectRatio': 0.7783018867924528}, {'Area': 150.0, 'Perimeter': 43.21320343559643, 'Centroid': (148.06, 175.38), 'BoundingBox': (141, 169, 156, 182), 'AspectRatio': 0.8571428571428571}, {'Area': 235.0, 'Perimeter': 54.8700576850888, 'Centroid': (159.10212765957448, 242.48510638297873), 'BoundingBox': (151, 235, 169, 252), 'AspectRatio': 0.6706349206349206}, {'Area': 248.0, 'Perimeter': 58.97056274847714, 'Centroid': (168.96774193548387, 145.24193548387098), 'BoundingBox': (159, 139, 181, 152), 'AspectRatio': 1.1907894736842106}, {'Area': 98.0, 'Perimeter': 36.384776310850235, 'Centroid': (171.73469387755102, 158.6530612244898), 'BoundingBox': (166, 154, 179, 165), 'AspectRatio': 1.084848484848485}, {'Area': 147.0, 'Perimeter': 42.384776310850235, 'Centroid': (172.77551020408163, 178.0204081632653), 'BoundingBox': (167, 171, 180, 185), 'AspectRatio': 0.972972972972973}, {'Area': 89.0, 'Perimeter': 33.89949493661167, 'Centroid': (178.3370786516854, 198.8988764044944), 'BoundingBox': (174, 194, 184, 205), 'AspectRatio': 0.8975609756097561}, {'Area': 402.0, 'Perimeter': 72.52691193458118, 'Centroid': (198.48756218905473, 204.18905472636817), 'BoundingBox': (187, 194, 211, 215), 'AspectRatio': 0.9813953488372092}, {'Area': 264.0, 'Perimeter': 58.62741699796952, 'Centroid': (198.39772727272728, 161.77651515151516), 'BoundingBox': (189, 154, 209, 170), 'AspectRatio': 1.2294117647058824}, {'Area': 519.0, 'Perimeter': 113.25483399593904, 'Centroid': (211.66859344894027, 181.02697495183045), 'BoundingBox': (192, 169, 229, 193), 'AspectRatio': 1.1865284974093264}, {'Area': 101.0, 'Perimeter': 36.48528137423857, 'Centroid': (226.85148514851485, 194.54455445544554), 'BoundingBox': (221, 190, 233, 200), 'AspectRatio': 1.165}]\n",
      "161 [{'Area': 221.0, 'Perimeter': 53.698484809834994, 'Centroid': (71.32579185520362, 127.3529411764706), 'BoundingBox': (62, 120, 81, 136), 'AspectRatio': 0.5955882352941176}, {'Area': 288.0, 'Perimeter': 61.112698372208094, 'Centroid': (99.88541666666667, 37.43402777777778), 'BoundingBox': (91, 28, 111, 47), 'AspectRatio': 2.3617021276595747}, {'Area': 401.0, 'Perimeter': 75.94112549695429, 'Centroid': (130.58104738154614, 30.788029925187033), 'BoundingBox': (117, 21, 144, 40), 'AspectRatio': 3.6}, {'Area': 312.0, 'Perimeter': 74.14213562373095, 'Centroid': (153.34935897435898, 4.919871794871795), 'BoundingBox': (139, 0, 169, 12), 'AspectRatio': 14.083333333333334}, {'Area': 403.0, 'Perimeter': 73.698484809835, 'Centroid': (152.13895781637717, 73.81637717121588), 'BoundingBox': (140, 64, 165, 84), 'AspectRatio': 1.9642857142857142}, {'Area': 150.0, 'Perimeter': 43.21320343559643, 'Centroid': (148.06, 47.38), 'BoundingBox': (141, 41, 156, 54), 'AspectRatio': 2.888888888888889}, {'Area': 235.0, 'Perimeter': 54.8700576850888, 'Centroid': (159.10212765957448, 114.48510638297873), 'BoundingBox': (151, 107, 169, 124), 'AspectRatio': 1.3629032258064515}, {'Area': 248.0, 'Perimeter': 58.97056274847714, 'Centroid': (168.96774193548387, 17.241935483870968), 'BoundingBox': (159, 11, 181, 24), 'AspectRatio': 7.541666666666667}, {'Area': 98.0, 'Perimeter': 36.384776310850235, 'Centroid': (171.73469387755102, 30.653061224489797), 'BoundingBox': (166, 26, 179, 37), 'AspectRatio': 4.837837837837838}, {'Area': 147.0, 'Perimeter': 42.384776310850235, 'Centroid': (172.77551020408163, 50.02040816326531), 'BoundingBox': (167, 43, 180, 57), 'AspectRatio': 3.1578947368421053}, {'Area': 89.0, 'Perimeter': 33.89949493661167, 'Centroid': (178.3370786516854, 70.89887640449439), 'BoundingBox': (174, 66, 184, 77), 'AspectRatio': 2.3896103896103895}, {'Area': 402.0, 'Perimeter': 72.52691193458118, 'Centroid': (198.48756218905473, 76.18905472636816), 'BoundingBox': (187, 66, 211, 87), 'AspectRatio': 2.425287356321839}, {'Area': 264.0, 'Perimeter': 58.62741699796952, 'Centroid': (198.39772727272728, 33.77651515151515), 'BoundingBox': (189, 26, 209, 42), 'AspectRatio': 4.976190476190476}, {'Area': 519.0, 'Perimeter': 113.25483399593904, 'Centroid': (211.66859344894027, 53.02697495183045), 'BoundingBox': (192, 41, 229, 65), 'AspectRatio': 3.523076923076923}, {'Area': 101.0, 'Perimeter': 36.48528137423857, 'Centroid': (226.85148514851485, 66.54455445544555), 'BoundingBox': (221, 62, 233, 72), 'AspectRatio': 3.236111111111111}]\n",
      "162 [{'Area': 107.0, 'Perimeter': 43.14213562373095, 'Centroid': (70.99065420560747, 2.7757009345794392), 'BoundingBox': (62, 0, 81, 8), 'AspectRatio': 10.125}]\n",
      "163 [{'Area': 29.0, 'Perimeter': 19.65685424949238, 'Centroid': (207.44827586206895, 253.55172413793105), 'BoundingBox': (204, 251, 212, 256), 'AspectRatio': 0.828125}]\n",
      "164 [{'Area': 60.0, 'Perimeter': 27.31370849898476, 'Centroid': (207.91666666666666, 127.51666666666667), 'BoundingBox': (204, 123, 213, 132), 'AspectRatio': 1.6136363636363635}]\n",
      "165 [{'Area': 31.0, 'Perimeter': 20.035533905932738, 'Centroid': (208.3548387096774, 1.3548387096774193), 'BoundingBox': (204, 0, 213, 4), 'AspectRatio': 53.25}]\n",
      "181 [{'Area': 64.0, 'Perimeter': 31.935028842544405, 'Centroid': (179.375, 159.84375), 'BoundingBox': (174, 156, 185, 165), 'AspectRatio': 1.121212121212121}]\n",
      "182 [{'Area': 64.0, 'Perimeter': 31.935028842544405, 'Centroid': (179.375, 31.84375), 'BoundingBox': (174, 28, 185, 37), 'AspectRatio': 5.0}]\n",
      "189 [{'Area': 195.0, 'Perimeter': 50.384776310850235, 'Centroid': (190.4923076923077, 138.6), 'BoundingBox': (184, 131, 198, 148), 'AspectRatio': 1.337837837837838}]\n",
      "191 [{'Area': 260.0, 'Perimeter': 71.00609665440987, 'Centroid': (26.8, 250.55769230769232), 'BoundingBox': (11, 244, 41, 256), 'AspectRatio': 0.16015625}, {'Area': 195.0, 'Perimeter': 50.384776310850235, 'Centroid': (190.4923076923077, 10.6), 'BoundingBox': (184, 3, 198, 20), 'AspectRatio': 9.9}]\n",
      "192 [{'Area': 260.0, 'Perimeter': 60.384776310850235, 'Centroid': (6.780769230769231, 158.34230769230768), 'BoundingBox': (0, 149, 16, 168), 'AspectRatio': 0.09523809523809523}, {'Area': 572.0, 'Perimeter': 89.35533905932738, 'Centroid': (26.00874125874126, 128.2097902097902), 'BoundingBox': (11, 116, 41, 140), 'AspectRatio': 0.29285714285714287}, {'Area': 403.0, 'Perimeter': 73.698484809835, 'Centroid': (24.13895781637717, 201.8163771712159), 'BoundingBox': (12, 192, 37, 212), 'AspectRatio': 0.17452830188679244}, {'Area': 150.0, 'Perimeter': 43.21320343559643, 'Centroid': (20.06, 175.38), 'BoundingBox': (13, 169, 28, 182), 'AspectRatio': 0.15384615384615385}, {'Area': 235.0, 'Perimeter': 54.8700576850888, 'Centroid': (31.102127659574467, 242.48510638297873), 'BoundingBox': (23, 235, 41, 252), 'AspectRatio': 0.1626984126984127}, {'Area': 248.0, 'Perimeter': 58.97056274847714, 'Centroid': (40.96774193548387, 145.24193548387098), 'BoundingBox': (31, 139, 53, 152), 'AspectRatio': 0.34868421052631576}, {'Area': 98.0, 'Perimeter': 36.384776310850235, 'Centroid': (43.734693877551024, 158.6530612244898), 'BoundingBox': (38, 154, 51, 165), 'AspectRatio': 0.3090909090909091}, {'Area': 147.0, 'Perimeter': 42.384776310850235, 'Centroid': (44.775510204081634, 178.0204081632653), 'BoundingBox': (39, 171, 52, 185), 'AspectRatio': 0.2810810810810811}, {'Area': 89.0, 'Perimeter': 33.89949493661167, 'Centroid': (50.337078651685395, 198.8988764044944), 'BoundingBox': (46, 194, 56, 205), 'AspectRatio': 0.2731707317073171}, {'Area': 402.0, 'Perimeter': 72.52691193458118, 'Centroid': (70.48756218905473, 204.18905472636817), 'BoundingBox': (59, 194, 83, 215), 'AspectRatio': 0.386046511627907}, {'Area': 264.0, 'Perimeter': 58.62741699796952, 'Centroid': (70.39772727272727, 161.77651515151516), 'BoundingBox': (61, 154, 81, 170), 'AspectRatio': 0.4764705882352941}, {'Area': 519.0, 'Perimeter': 113.25483399593904, 'Centroid': (83.66859344894027, 181.02697495183045), 'BoundingBox': (64, 169, 101, 193), 'AspectRatio': 0.5233160621761658}, {'Area': 101.0, 'Perimeter': 36.48528137423857, 'Centroid': (98.85148514851485, 194.54455445544554), 'BoundingBox': (93, 190, 105, 200), 'AspectRatio': 0.525}, {'Area': 220.0, 'Perimeter': 55.798989873223334, 'Centroid': (149.8181818181818, 199.46363636363637), 'BoundingBox': (141, 193, 159, 208), 'AspectRatio': 0.7644230769230769}, {'Area': 124.0, 'Perimeter': 40.384776310850235, 'Centroid': (154.4516129032258, 156.58870967741936), 'BoundingBox': (149, 151, 162, 164), 'AspectRatio': 0.9878048780487805}]\n",
      "193 [{'Area': 260.0, 'Perimeter': 60.384776310850235, 'Centroid': (6.780769230769231, 30.342307692307692), 'BoundingBox': (0, 21, 16, 40), 'AspectRatio': 0.4}, {'Area': 312.0, 'Perimeter': 74.14213562373095, 'Centroid': (25.349358974358974, 4.919871794871795), 'BoundingBox': (11, 0, 41, 12), 'AspectRatio': 3.4166666666666665}, {'Area': 403.0, 'Perimeter': 73.698484809835, 'Centroid': (24.13895781637717, 73.81637717121588), 'BoundingBox': (12, 64, 37, 84), 'AspectRatio': 0.44047619047619047}, {'Area': 150.0, 'Perimeter': 43.21320343559643, 'Centroid': (20.06, 47.38), 'BoundingBox': (13, 41, 28, 54), 'AspectRatio': 0.5185185185185185}, {'Area': 235.0, 'Perimeter': 54.8700576850888, 'Centroid': (31.102127659574467, 114.48510638297873), 'BoundingBox': (23, 107, 41, 124), 'AspectRatio': 0.33064516129032256}, {'Area': 248.0, 'Perimeter': 58.97056274847714, 'Centroid': (40.96774193548387, 17.241935483870968), 'BoundingBox': (31, 11, 53, 24), 'AspectRatio': 2.2083333333333335}, {'Area': 98.0, 'Perimeter': 36.384776310850235, 'Centroid': (43.734693877551024, 30.653061224489797), 'BoundingBox': (38, 26, 51, 37), 'AspectRatio': 1.3783783783783783}, {'Area': 147.0, 'Perimeter': 42.384776310850235, 'Centroid': (44.775510204081634, 50.02040816326531), 'BoundingBox': (39, 43, 52, 57), 'AspectRatio': 0.9122807017543859}, {'Area': 89.0, 'Perimeter': 33.89949493661167, 'Centroid': (50.337078651685395, 70.89887640449439), 'BoundingBox': (46, 66, 56, 77), 'AspectRatio': 0.7272727272727273}, {'Area': 402.0, 'Perimeter': 72.52691193458118, 'Centroid': (70.48756218905473, 76.18905472636816), 'BoundingBox': (59, 66, 83, 87), 'AspectRatio': 0.9540229885057471}, {'Area': 264.0, 'Perimeter': 58.62741699796952, 'Centroid': (70.39772727272727, 33.77651515151515), 'BoundingBox': (61, 26, 81, 42), 'AspectRatio': 1.9285714285714286}, {'Area': 519.0, 'Perimeter': 113.25483399593904, 'Centroid': (83.66859344894027, 53.02697495183045), 'BoundingBox': (64, 41, 101, 65), 'AspectRatio': 1.5538461538461539}, {'Area': 101.0, 'Perimeter': 36.48528137423857, 'Centroid': (98.85148514851485, 66.54455445544555), 'BoundingBox': (93, 62, 105, 72), 'AspectRatio': 1.4583333333333333}, {'Area': 220.0, 'Perimeter': 55.798989873223334, 'Centroid': (149.8181818181818, 71.46363636363637), 'BoundingBox': (141, 65, 159, 80), 'AspectRatio': 1.9875}, {'Area': 124.0, 'Perimeter': 40.384776310850235, 'Centroid': (154.4516129032258, 28.588709677419356), 'BoundingBox': (149, 23, 162, 36), 'AspectRatio': 4.5}]\n",
      "195 [{'Area': 29.0, 'Perimeter': 19.65685424949238, 'Centroid': (79.44827586206897, 253.55172413793105), 'BoundingBox': (76, 251, 84, 256), 'AspectRatio': 0.328125}]\n",
      "196 [{'Area': 60.0, 'Perimeter': 27.31370849898476, 'Centroid': (79.91666666666667, 127.51666666666667), 'BoundingBox': (76, 123, 85, 132), 'AspectRatio': 0.6439393939393939}]\n",
      "197 [{'Area': 31.0, 'Perimeter': 20.035533905932738, 'Centroid': (80.35483870967742, 1.3548387096774193), 'BoundingBox': (76, 0, 85, 4), 'AspectRatio': 21.25}]\n",
      "207 [{'Area': 166.0, 'Perimeter': 48.04163056034262, 'Centroid': (200.66265060240963, 179.07831325301206), 'BoundingBox': (193, 173, 209, 187), 'AspectRatio': 1.1176470588235294}]\n",
      "208 [{'Area': 166.0, 'Perimeter': 48.04163056034262, 'Centroid': (200.66265060240963, 51.07831325301205), 'BoundingBox': (193, 45, 209, 59), 'AspectRatio': 3.542372881355932}]\n",
      "213 [{'Area': 64.0, 'Perimeter': 31.935028842544405, 'Centroid': (51.375, 159.84375), 'BoundingBox': (46, 156, 57, 165), 'AspectRatio': 0.34545454545454546}]\n",
      "214 [{'Area': 64.0, 'Perimeter': 31.935028842544405, 'Centroid': (51.375, 31.84375), 'BoundingBox': (46, 28, 57, 37), 'AspectRatio': 1.5405405405405406}]\n",
      "220 [{'Area': 71.0, 'Perimeter': 38.14213562373095, 'Centroid': (253.18309859154928, 196.19718309859155), 'BoundingBox': (250, 188, 256, 206), 'AspectRatio': 1.2427184466019416}]\n",
      "221 [{'Area': 195.0, 'Perimeter': 50.384776310850235, 'Centroid': (62.49230769230769, 138.6), 'BoundingBox': (56, 131, 70, 148), 'AspectRatio': 0.47297297297297297}, {'Area': 71.0, 'Perimeter': 38.14213562373095, 'Centroid': (253.18309859154928, 68.19718309859155), 'BoundingBox': (250, 60, 256, 78), 'AspectRatio': 3.282051282051282}]\n",
      "222 [{'Area': 195.0, 'Perimeter': 50.384776310850235, 'Centroid': (62.49230769230769, 10.6), 'BoundingBox': (56, 3, 70, 20), 'AspectRatio': 3.5}]\n",
      "225 [{'Area': 220.0, 'Perimeter': 55.798989873223334, 'Centroid': (21.818181818181817, 199.46363636363637), 'BoundingBox': (13, 193, 31, 208), 'AspectRatio': 0.14903846153846154}, {'Area': 124.0, 'Perimeter': 40.384776310850235, 'Centroid': (26.451612903225808, 156.58870967741936), 'BoundingBox': (21, 151, 34, 164), 'AspectRatio': 0.2073170731707317}]\n",
      "226 [{'Area': 220.0, 'Perimeter': 55.798989873223334, 'Centroid': (21.818181818181817, 71.46363636363637), 'BoundingBox': (13, 65, 31, 80), 'AspectRatio': 0.3875}, {'Area': 124.0, 'Perimeter': 40.384776310850235, 'Centroid': (26.451612903225808, 28.588709677419356), 'BoundingBox': (21, 23, 34, 36), 'AspectRatio': 0.9444444444444444}]\n",
      "231 [{'Area': 246.0, 'Perimeter': 59.21320343559643, 'Centroid': (248.03252032520325, 205.9918699186992), 'BoundingBox': (239, 196, 256, 215), 'AspectRatio': 1.1906976744186046}]\n",
      "232 [{'Area': 246.0, 'Perimeter': 59.21320343559643, 'Centroid': (248.03252032520325, 77.99186991869918), 'BoundingBox': (239, 68, 256, 87), 'AspectRatio': 2.942528735632184}]\n",
      "236 [{'Area': 239.0, 'Perimeter': 56.284271247461895, 'Centroid': (243.50627615062763, 246.52301255230125), 'BoundingBox': (235, 238, 253, 256), 'AspectRatio': 0.98828125}]\n",
      "237 [{'Area': 147.0, 'Perimeter': 46.38477631085023, 'Centroid': (215.53061224489795, 241.18367346938774), 'BoundingBox': (210, 234, 222, 250), 'AspectRatio': 0.888}, {'Area': 239.0, 'Perimeter': 56.284271247461895, 'Centroid': (243.50627615062763, 118.52301255230125), 'BoundingBox': (235, 110, 253, 128), 'AspectRatio': 1.9765625}]\n",
      "238 [{'Area': 147.0, 'Perimeter': 46.38477631085023, 'Centroid': (215.53061224489795, 113.18367346938776), 'BoundingBox': (210, 106, 222, 122), 'AspectRatio': 1.819672131147541}]\n",
      "240 [{'Area': 166.0, 'Perimeter': 48.04163056034262, 'Centroid': (72.66265060240964, 179.07831325301206), 'BoundingBox': (65, 173, 81, 187), 'AspectRatio': 0.43315508021390375}, {'Area': 443.0, 'Perimeter': 76.5269119345812, 'Centroid': (228.51467268623026, 162.48984198645599), 'BoundingBox': (217, 152, 242, 174), 'AspectRatio': 1.3908045977011494}, {'Area': 116.0, 'Perimeter': 37.798989873223334, 'Centroid': (236.9051724137931, 205.3793103448276), 'BoundingBox': (231, 200, 244, 212), 'AspectRatio': 1.150943396226415}]\n",
      "241 [{'Area': 166.0, 'Perimeter': 48.04163056034262, 'Centroid': (72.66265060240964, 51.07831325301205), 'BoundingBox': (65, 45, 81, 59), 'AspectRatio': 1.3728813559322033}, {'Area': 443.0, 'Perimeter': 76.5269119345812, 'Centroid': (228.51467268623026, 34.48984198645598), 'BoundingBox': (217, 24, 242, 46), 'AspectRatio': 5.260869565217392}, {'Area': 116.0, 'Perimeter': 37.798989873223334, 'Centroid': (236.9051724137931, 77.37931034482759), 'BoundingBox': (231, 72, 244, 84), 'AspectRatio': 2.9047619047619047}]\n",
      "252 [{'Area': 113.0, 'Perimeter': 39.89949493661167, 'Centroid': (157.1946902654867, 251.67256637168143), 'BoundingBox': (150, 248, 166, 256), 'AspectRatio': 0.6484375}, {'Area': 61.0, 'Perimeter': 29.142135623730947, 'Centroid': (189.0, 141.11475409836066), 'BoundingBox': (185, 137, 194, 147), 'AspectRatio': 1.3197278911564625}, {'Area': 247.0, 'Perimeter': 58.04163056034261, 'Centroid': (243.78542510121457, 196.40890688259108), 'BoundingBox': (234, 189, 254, 205), 'AspectRatio': 1.2390243902439024}]\n",
      "253 [{'Area': 473.0, 'Perimeter': 79.59797974644665, 'Centroid': (134.69767441860466, 196.17336152219872), 'BoundingBox': (122, 184, 147, 209), 'AspectRatio': 0.7033492822966507}, {'Area': 157.0, 'Perimeter': 45.21320343559643, 'Centroid': (157.25477707006368, 125.2484076433121), 'BoundingBox': (150, 120, 166, 133), 'AspectRatio': 1.2481203007518797}, {'Area': 188.0, 'Perimeter': 48.627416997969526, 'Centroid': (161.43085106382978, 175.71808510638297), 'BoundingBox': (154, 169, 170, 184), 'AspectRatio': 0.9239130434782609}, {'Area': 61.0, 'Perimeter': 29.142135623730947, 'Centroid': (189.0, 13.114754098360656), 'BoundingBox': (185, 9, 194, 19), 'AspectRatio': 10.210526315789474}, {'Area': 145.0, 'Perimeter': 44.970562748477136, 'Centroid': (202.57931034482758, 161.2), 'BoundingBox': (195, 156, 211, 168), 'AspectRatio': 1.255952380952381}, {'Area': 247.0, 'Perimeter': 58.04163056034261, 'Centroid': (243.78542510121457, 68.4089068825911), 'BoundingBox': (234, 61, 254, 77), 'AspectRatio': 3.2987012987012987}]\n",
      "254 [{'Area': 473.0, 'Perimeter': 79.59797974644665, 'Centroid': (134.69767441860466, 68.17336152219873), 'BoundingBox': (122, 56, 147, 81), 'AspectRatio': 1.8148148148148149}, {'Area': 44.0, 'Perimeter': 29.313708498984763, 'Centroid': (157.4090909090909, 1.2954545454545454), 'BoundingBox': (151, 0, 165, 5), 'AspectRatio': 33.0}, {'Area': 188.0, 'Perimeter': 48.627416997969526, 'Centroid': (161.43085106382978, 47.71808510638298), 'BoundingBox': (154, 41, 170, 56), 'AspectRatio': 3.0357142857142856}, {'Area': 145.0, 'Perimeter': 44.970562748477136, 'Centroid': (202.57931034482758, 33.2), 'BoundingBox': (195, 28, 211, 40), 'AspectRatio': 5.275}]\n",
      "263 [{'Area': 304.0, 'Perimeter': 66.52691193458118, 'Centroid': (121.92105263157895, 205.41118421052633), 'BoundingBox': (111, 196, 134, 215), 'AspectRatio': 0.6232558139534884}]\n",
      "264 [{'Area': 304.0, 'Perimeter': 66.52691193458118, 'Centroid': (121.92105263157895, 77.41118421052632), 'BoundingBox': (111, 68, 134, 87), 'AspectRatio': 1.5402298850574712}]\n",
      "267 [{'Area': 239.0, 'Perimeter': 56.284271247461895, 'Centroid': (115.50627615062761, 246.52301255230125), 'BoundingBox': (107, 238, 125, 256), 'AspectRatio': 0.48828125}]\n",
      "269 [{'Area': 147.0, 'Perimeter': 46.38477631085023, 'Centroid': (87.53061224489795, 241.18367346938774), 'BoundingBox': (82, 234, 94, 250), 'AspectRatio': 0.376}, {'Area': 239.0, 'Perimeter': 56.284271247461895, 'Centroid': (115.50627615062761, 118.52301255230125), 'BoundingBox': (107, 110, 125, 128), 'AspectRatio': 0.9765625}]\n",
      "270 [{'Area': 147.0, 'Perimeter': 46.38477631085023, 'Centroid': (87.53061224489795, 113.18367346938776), 'BoundingBox': (82, 106, 94, 122), 'AspectRatio': 0.7704918032786885}]\n",
      "271 [{'Area': 556.0, 'Perimeter': 87.35533905932738, 'Centroid': (203.2931654676259, 190.8003597122302), 'BoundingBox': (188, 180, 218, 203), 'AspectRatio': 1.0738916256157636}]\n",
      "272 [{'Area': 443.0, 'Perimeter': 76.5269119345812, 'Centroid': (100.51467268623024, 162.48984198645599), 'BoundingBox': (89, 152, 114, 174), 'AspectRatio': 0.6551724137931034}, {'Area': 116.0, 'Perimeter': 37.798989873223334, 'Centroid': (108.90517241379311, 205.3793103448276), 'BoundingBox': (103, 200, 116, 212), 'AspectRatio': 0.5471698113207547}, {'Area': 556.0, 'Perimeter': 87.35533905932738, 'Centroid': (203.2931654676259, 62.80035971223022), 'BoundingBox': (188, 52, 218, 75), 'AspectRatio': 2.9066666666666667}]\n",
      "273 [{'Area': 443.0, 'Perimeter': 76.5269119345812, 'Centroid': (100.51467268623024, 34.48984198645598), 'BoundingBox': (89, 24, 114, 46), 'AspectRatio': 2.4782608695652173}, {'Area': 116.0, 'Perimeter': 37.798989873223334, 'Centroid': (108.90517241379311, 77.37931034482759), 'BoundingBox': (103, 72, 116, 84), 'AspectRatio': 1.380952380952381}]\n",
      "284 [{'Area': 113.0, 'Perimeter': 39.89949493661167, 'Centroid': (29.194690265486727, 251.67256637168143), 'BoundingBox': (22, 248, 38, 256), 'AspectRatio': 0.1484375}, {'Area': 61.0, 'Perimeter': 29.142135623730947, 'Centroid': (61.0, 141.11475409836066), 'BoundingBox': (57, 137, 66, 147), 'AspectRatio': 0.4489795918367347}, {'Area': 247.0, 'Perimeter': 58.04163056034261, 'Centroid': (115.78542510121457, 196.40890688259108), 'BoundingBox': (106, 189, 126, 205), 'AspectRatio': 0.6146341463414634}]\n",
      "285 [{'Area': 402.0, 'Perimeter': 74.04163056034263, 'Centroid': (8.378109452736318, 196.16915422885572), 'BoundingBox': (0, 184, 19, 209), 'AspectRatio': 0.09090909090909091}, {'Area': 157.0, 'Perimeter': 45.21320343559643, 'Centroid': (29.254777070063696, 125.2484076433121), 'BoundingBox': (22, 120, 38, 133), 'AspectRatio': 0.2857142857142857}, {'Area': 188.0, 'Perimeter': 48.627416997969526, 'Centroid': (33.430851063829785, 175.71808510638297), 'BoundingBox': (26, 169, 42, 184), 'AspectRatio': 0.22826086956521738}, {'Area': 61.0, 'Perimeter': 29.142135623730947, 'Centroid': (61.0, 13.114754098360656), 'BoundingBox': (57, 9, 66, 19), 'AspectRatio': 3.473684210526316}, {'Area': 145.0, 'Perimeter': 44.970562748477136, 'Centroid': (74.57931034482759, 161.2), 'BoundingBox': (67, 156, 83, 168), 'AspectRatio': 0.49404761904761907}, {'Area': 247.0, 'Perimeter': 58.04163056034261, 'Centroid': (115.78542510121457, 68.4089068825911), 'BoundingBox': (106, 61, 126, 77), 'AspectRatio': 1.6363636363636365}]\n",
      "286 [{'Area': 402.0, 'Perimeter': 74.04163056034263, 'Centroid': (8.378109452736318, 68.16915422885572), 'BoundingBox': (0, 56, 19, 81), 'AspectRatio': 0.2345679012345679}, {'Area': 44.0, 'Perimeter': 29.313708498984763, 'Centroid': (29.40909090909091, 1.2954545454545454), 'BoundingBox': (23, 0, 37, 5), 'AspectRatio': 7.4}, {'Area': 188.0, 'Perimeter': 48.627416997969526, 'Centroid': (33.430851063829785, 47.71808510638298), 'BoundingBox': (26, 41, 42, 56), 'AspectRatio': 0.75}, {'Area': 145.0, 'Perimeter': 44.970562748477136, 'Centroid': (74.57931034482759, 33.2), 'BoundingBox': (67, 28, 83, 40), 'AspectRatio': 2.075}]\n",
      "290 [{'Area': 18.0, 'Perimeter': 15.071067811865476, 'Centroid': (61.833333333333336, 253.44444444444446), 'BoundingBox': (59, 251, 65, 256), 'AspectRatio': 0.25390625}]\n",
      "295 [{'Area': 58.0, 'Perimeter': 31.071067811865476, 'Centroid': (1.9310344827586208, 202.94827586206895), 'BoundingBox': (0, 197, 6, 211), 'AspectRatio': 0.02843601895734597}]\n",
      "296 [{'Area': 58.0, 'Perimeter': 31.071067811865476, 'Centroid': (1.9310344827586208, 74.94827586206897), 'BoundingBox': (0, 69, 6, 83), 'AspectRatio': 0.07228915662650602}]\n",
      "301 [{'Area': 42.0, 'Perimeter': 28.142135623730947, 'Centroid': (60.714285714285715, 127.88095238095238), 'BoundingBox': (57, 123, 65, 133), 'AspectRatio': 0.48872180451127817}]\n",
      "303 [{'Area': 556.0, 'Perimeter': 87.35533905932738, 'Centroid': (75.2931654676259, 190.8003597122302), 'BoundingBox': (60, 180, 90, 203), 'AspectRatio': 0.4433497536945813}]\n",
      "304 [{'Area': 556.0, 'Perimeter': 87.35533905932738, 'Centroid': (75.2931654676259, 62.80035971223022), 'BoundingBox': (60, 52, 90, 75), 'AspectRatio': 1.2}]\n",
      "312 [{'Area': 24.0, 'Perimeter': 17.449747468305834, 'Centroid': (59.875, 1.7083333333333333), 'BoundingBox': (57, 0, 64, 5), 'AspectRatio': 12.8}]\n",
      "331 [{'Area': 515.0, 'Perimeter': 92.2842712474619, 'Centroid': (239.47766990291262, 246.13009708737863), 'BoundingBox': (224, 237, 256, 256), 'AspectRatio': 1.0}]\n",
      "332 [{'Area': 593.0, 'Perimeter': 98.42640687119285, 'Centroid': (238.5328836424958, 119.70320404721754), 'BoundingBox': (224, 109, 256, 134), 'AspectRatio': 1.9104477611940298}]\n",
      "333 [{'Area': 78.0, 'Perimeter': 37.31370849898475, 'Centroid': (232.2948717948718, 2.08974358974359), 'BoundingBox': (225, 0, 242, 6), 'AspectRatio': 40.333333333333336}]\n",
      "364 [{'Area': 522.0, 'Perimeter': 93.11269837220809, 'Centroid': (111.69923371647509, 246.12835249042146), 'BoundingBox': (96, 237, 129, 256), 'AspectRatio': 0.50390625}]\n",
      "365 [{'Area': 600.0, 'Perimeter': 99.25483399593904, 'Centroid': (110.73666666666666, 119.68333333333334), 'BoundingBox': (96, 109, 129, 134), 'AspectRatio': 0.9626865671641791}]\n",
      "366 [{'Area': 78.0, 'Perimeter': 37.31370849898475, 'Centroid': (104.2948717948718, 2.08974358974359), 'BoundingBox': (97, 0, 114, 6), 'AspectRatio': 19.0}]\n",
      "396 [{'Area': 7.0, 'Perimeter': 5.0, 'Centroid': (0.0, 246.0), 'BoundingBox': (0, 243, 1, 250), 'AspectRatio': 0.004}]\n",
      "397 [{'Area': 7.0, 'Perimeter': 5.0, 'Centroid': (0.0, 118.0), 'BoundingBox': (0, 115, 1, 122), 'AspectRatio': 0.00819672131147541}]\n",
      "425 [{'Area': 152.0, 'Perimeter': 45.55634918610404, 'Centroid': (158.47368421052633, 153.51973684210526), 'BoundingBox': (151, 147, 166, 160), 'AspectRatio': 1.0375}]\n",
      "426 [{'Area': 152.0, 'Perimeter': 45.55634918610404, 'Centroid': (158.47368421052633, 25.519736842105264), 'BoundingBox': (151, 19, 166, 32), 'AspectRatio': 5.1875}]\n",
      "442 [{'Area': 353.0, 'Perimeter': 69.11269837220809, 'Centroid': (224.97733711048159, 148.73937677053826), 'BoundingBox': (214, 139, 237, 159), 'AspectRatio': 1.490566037735849}, {'Area': 16.0, 'Perimeter': 16.414213562373096, 'Centroid': (254.5625, 188.0), 'BoundingBox': (254, 184, 256, 193), 'AspectRatio': 1.3264248704663213}]\n",
      "443 [{'Area': 353.0, 'Perimeter': 69.11269837220809, 'Centroid': (224.97733711048159, 20.739376770538243), 'BoundingBox': (214, 11, 237, 31), 'AspectRatio': 7.645161290322581}, {'Area': 16.0, 'Perimeter': 16.414213562373096, 'Centroid': (254.5625, 60.0), 'BoundingBox': (254, 56, 256, 65), 'AspectRatio': 3.9384615384615387}]\n",
      "458 [{'Area': 152.0, 'Perimeter': 45.55634918610404, 'Centroid': (30.473684210526315, 153.51973684210526), 'BoundingBox': (23, 147, 38, 160), 'AspectRatio': 0.2375}]\n",
      "459 [{'Area': 152.0, 'Perimeter': 45.55634918610404, 'Centroid': (30.473684210526315, 25.519736842105264), 'BoundingBox': (23, 19, 38, 32), 'AspectRatio': 1.1875}]\n",
      "471 [{'Area': 85.0, 'Perimeter': 31.31370849898476, 'Centroid': (201.52941176470588, 238.2941176470588), 'BoundingBox': (197, 234, 207, 244), 'AspectRatio': 0.8483606557377049}]\n",
      "472 [{'Area': 145.0, 'Perimeter': 43.21320343559643, 'Centroid': (137.7103448275862, 152.64137931034483), 'BoundingBox': (132, 146, 146, 160), 'AspectRatio': 0.9125}, {'Area': 85.0, 'Perimeter': 31.31370849898476, 'Centroid': (201.52941176470588, 110.29411764705883), 'BoundingBox': (197, 106, 207, 116), 'AspectRatio': 1.7844827586206897}]\n",
      "473 [{'Area': 145.0, 'Perimeter': 43.21320343559643, 'Centroid': (137.7103448275862, 24.641379310344828), 'BoundingBox': (132, 18, 146, 32), 'AspectRatio': 4.5625}]\n",
      "475 [{'Area': 353.0, 'Perimeter': 69.11269837220809, 'Centroid': (96.97733711048159, 148.73937677053826), 'BoundingBox': (86, 139, 109, 159), 'AspectRatio': 0.6855345911949685}, {'Area': 156.0, 'Perimeter': 44.62741699796951, 'Centroid': (132.27564102564102, 188.18589743589743), 'BoundingBox': (126, 181, 140, 196), 'AspectRatio': 0.7142857142857143}, {'Area': 86.0, 'Perimeter': 33.89949493661167, 'Centroid': (138.6860465116279, 164.13953488372093), 'BoundingBox': (133, 160, 145, 169), 'AspectRatio': 0.8579881656804734}]\n",
      "476 [{'Area': 353.0, 'Perimeter': 69.11269837220809, 'Centroid': (96.97733711048159, 20.739376770538243), 'BoundingBox': (86, 11, 109, 31), 'AspectRatio': 3.5161290322580645}, {'Area': 156.0, 'Perimeter': 44.62741699796951, 'Centroid': (132.27564102564102, 60.18589743589744), 'BoundingBox': (126, 53, 140, 68), 'AspectRatio': 2.0588235294117645}, {'Area': 86.0, 'Perimeter': 33.89949493661167, 'Centroid': (138.6860465116279, 36.13953488372093), 'BoundingBox': (133, 32, 145, 41), 'AspectRatio': 3.5365853658536586}]\n",
      "503 [{'Area': 85.0, 'Perimeter': 31.31370849898476, 'Centroid': (73.52941176470588, 238.2941176470588), 'BoundingBox': (69, 234, 79, 244), 'AspectRatio': 0.3237704918032787}]\n",
      "504 [{'Area': 145.0, 'Perimeter': 43.21320343559643, 'Centroid': (9.710344827586207, 152.64137931034483), 'BoundingBox': (4, 146, 18, 160), 'AspectRatio': 0.1125}, {'Area': 85.0, 'Perimeter': 31.31370849898476, 'Centroid': (73.52941176470588, 110.29411764705883), 'BoundingBox': (69, 106, 79, 116), 'AspectRatio': 0.6810344827586207}]\n",
      "505 [{'Area': 145.0, 'Perimeter': 43.21320343559643, 'Centroid': (9.710344827586207, 24.641379310344828), 'BoundingBox': (4, 18, 18, 32), 'AspectRatio': 0.5625}]\n",
      "507 [{'Area': 140.0, 'Perimeter': 42.970562748477136, 'Centroid': (4.928571428571429, 188.20714285714286), 'BoundingBox': (0, 181, 12, 196), 'AspectRatio': 0.061224489795918366}, {'Area': 86.0, 'Perimeter': 33.89949493661167, 'Centroid': (10.686046511627907, 164.13953488372093), 'BoundingBox': (5, 160, 17, 169), 'AspectRatio': 0.10059171597633136}]\n",
      "508 [{'Area': 140.0, 'Perimeter': 42.970562748477136, 'Centroid': (4.928571428571429, 60.207142857142856), 'BoundingBox': (0, 53, 12, 68), 'AspectRatio': 0.17647058823529413}, {'Area': 86.0, 'Perimeter': 33.89949493661167, 'Centroid': (10.686046511627907, 36.13953488372093), 'BoundingBox': (5, 32, 17, 41), 'AspectRatio': 0.4146341463414634}]\n",
      "531 [{'Area': 52.0, 'Perimeter': 24.485281374238568, 'Centroid': (170.46153846153845, 183.15384615384616), 'BoundingBox': (167, 180, 175, 188), 'AspectRatio': 0.9308510638297872}, {'Area': 191.0, 'Perimeter': 67.21320343559643, 'Centroid': (176.13612565445027, 193.8586387434555), 'BoundingBox': (169, 185, 185, 204), 'AspectRatio': 0.9068627450980392}]\n",
      "532 [{'Area': 52.0, 'Perimeter': 24.485281374238568, 'Centroid': (170.46153846153845, 55.15384615384615), 'BoundingBox': (167, 52, 175, 60), 'AspectRatio': 2.9166666666666665}, {'Area': 191.0, 'Perimeter': 67.21320343559643, 'Centroid': (176.13612565445027, 65.8586387434555), 'BoundingBox': (169, 57, 185, 76), 'AspectRatio': 2.4342105263157894}]\n",
      "564 [{'Area': 52.0, 'Perimeter': 24.485281374238568, 'Centroid': (42.46153846153846, 183.15384615384616), 'BoundingBox': (39, 180, 47, 188), 'AspectRatio': 0.25}, {'Area': 191.0, 'Perimeter': 67.21320343559643, 'Centroid': (48.13612565445026, 193.8586387434555), 'BoundingBox': (41, 185, 57, 204), 'AspectRatio': 0.27941176470588236}]\n",
      "565 [{'Area': 52.0, 'Perimeter': 24.485281374238568, 'Centroid': (42.46153846153846, 55.15384615384615), 'BoundingBox': (39, 52, 47, 60), 'AspectRatio': 0.7833333333333333}, {'Area': 191.0, 'Perimeter': 67.21320343559643, 'Centroid': (48.13612565445026, 65.8586387434555), 'BoundingBox': (41, 57, 57, 76), 'AspectRatio': 0.75}]\n",
      "566 [{'Area': 223.0, 'Perimeter': 54.2842712474619, 'Centroid': (219.9596412556054, 157.81614349775785), 'BoundingBox': (211, 150, 229, 167), 'AspectRatio': 1.3712574850299402}]\n",
      "576 [{'Area': 18.0, 'Perimeter': 15.071067811865476, 'Centroid': (189.83333333333334, 253.44444444444446), 'BoundingBox': (187, 251, 193, 256), 'AspectRatio': 0.75390625}]\n",
      "587 [{'Area': 42.0, 'Perimeter': 28.142135623730947, 'Centroid': (188.71428571428572, 127.88095238095238), 'BoundingBox': (185, 123, 193, 133), 'AspectRatio': 1.4511278195488722}]\n",
      "598 [{'Area': 24.0, 'Perimeter': 17.449747468305834, 'Centroid': (187.875, 1.7083333333333333), 'BoundingBox': (185, 0, 192, 5), 'AspectRatio': 38.4}]\n"
     ]
    }
   ],
   "source": [
    "for i, x in enumerate(geometric_properties_labels):\n",
    "    if x != []:\n",
    "        print(i, x)"
   ]
  },
  {
   "cell_type": "code",
   "execution_count": 36,
   "metadata": {},
   "outputs": [
    {
     "name": "stdout",
     "output_type": "stream",
     "text": [
      "[{'Area': 581.0, 'Perimeter': 112.5685424949238, 'Centroid': (201.2908777969019, 132.8382099827883), 'BoundingBox': (179, 119, 220, 144), 'AspectRatio': 1.5277777777777777}, {'Area': 7.0, 'Perimeter': 6.82842712474619, 'Centroid': (187.0, 124.28571428571429), 'BoundingBox': (186, 123, 189, 126), 'AspectRatio': 1.5}, {'Area': 176.0, 'Perimeter': 46.62741699796952, 'Centroid': (225.7215909090909, 141.76704545454547), 'BoundingBox': (219, 135, 234, 150), 'AspectRatio': 1.56}, {'Area': 226.0, 'Perimeter': 68.38477631085024, 'Centroid': (245.30088495575222, 152.00884955752213), 'BoundingBox': (233, 145, 256, 159), 'AspectRatio': 1.610062893081761}, {'Area': 242.0, 'Perimeter': 67.45584412271572, 'Centroid': (246.96280991735537, 111.14462809917356), 'BoundingBox': (237, 103, 256, 125), 'AspectRatio': 2.048}]\n",
      "[{'Area': 98.0, 'Perimeter': 34.72792206135785, 'Centroid': (187.4387755102041, 135.62244897959184), 'BoundingBox': (182, 131, 194, 141), 'AspectRatio': 1.375886524822695}, {'Area': 274.0, 'Perimeter': 76.38477631085024, 'Centroid': (206.8905109489051, 130.6897810218978), 'BoundingBox': (196, 121, 218, 141), 'AspectRatio': 1.5460992907801419}, {'Area': 146.0, 'Perimeter': 42.72792206135786, 'Centroid': (225.3972602739726, 142.23972602739727), 'BoundingBox': (219, 137, 233, 149), 'AspectRatio': 1.563758389261745}, {'Area': 256.0, 'Perimeter': 73.11269837220809, 'Centroid': (243.3203125, 152.8671875), 'BoundingBox': (231, 145, 256, 161), 'AspectRatio': 1.5900621118012421}, {'Area': 307.0, 'Perimeter': 70.04163056034261, 'Centroid': (248.01954397394138, 111.62540716612378), 'BoundingBox': (238, 102, 256, 126), 'AspectRatio': 2.0317460317460316}]\n"
     ]
    }
   ],
   "source": [
    "id = 47\n",
    "print(geometric_properties[id])\n",
    "print(geometric_properties_labels[id])"
   ]
  },
  {
   "cell_type": "code",
   "execution_count": 9,
   "metadata": {},
   "outputs": [
    {
     "name": "stdout",
     "output_type": "stream",
     "text": [
      "1056 500\n"
     ]
    }
   ],
   "source": [
    "count = 0\n",
    "for images, labels in train_dataset:\n",
    "    for label in labels:\n",
    "        if label.sum() > 0:\n",
    "            count = count + 1\n",
    "\n",
    "print(len(train_dataset)*8, count)"
   ]
  },
  {
   "cell_type": "code",
   "execution_count": 7,
   "metadata": {},
   "outputs": [
    {
     "name": "stdout",
     "output_type": "stream",
     "text": [
      "122936 44536 19408\n",
      "28848 10818 3606\n",
      "186880 43272\n"
     ]
    }
   ],
   "source": [
    "t1 = 15367*conf.train_batch_size\n",
    "t2 = 5567*conf.val_batch_size\n",
    "t3 = 2426*conf.test_batch_size\n",
    "\n",
    "print(t1, t2, t3)\n",
    "\n",
    "t4 = 3606\n",
    "t5 = t4 + t4*2\n",
    "t6 = t4 + t4*7\n",
    "\n",
    "print(t6, t5, t4)\n",
    "\n",
    "print(t1+t2+t3, t4+t5+t6)"
   ]
  },
  {
   "cell_type": "code",
   "execution_count": 38,
   "metadata": {},
   "outputs": [
    {
     "name": "stdout",
     "output_type": "stream",
     "text": [
      "{'Area Difference': 483.0, 'Perimeter Difference': 77.84062043356596, 'Aspect Ratio Difference': 0.15189125295508266, 'Centroid Distance': 14.129144508867478, 'IoU': 0.13095238095238096}\n"
     ]
    }
   ],
   "source": [
    "import numpy as np\n",
    "\n",
    "def compare_properties(predicted, label):\n",
    "    area_diff = abs(predicted['Area'] - label['Area'])\n",
    "    perimeter_diff = abs(predicted['Perimeter'] - label['Perimeter'])\n",
    "    aspect_ratio_diff = abs(predicted['AspectRatio'] - label['AspectRatio'])\n",
    "    \n",
    "    centroid_distance = np.linalg.norm(\n",
    "        np.array(predicted['Centroid']) - np.array(label['Centroid'])\n",
    "    )\n",
    "    \n",
    "    iou = calculate_iou(predicted['BoundingBox'], label['BoundingBox'])\n",
    "    \n",
    "    return {\n",
    "        'Area Difference': area_diff,\n",
    "        'Perimeter Difference': perimeter_diff,\n",
    "        'Aspect Ratio Difference': aspect_ratio_diff,\n",
    "        'Centroid Distance': centroid_distance,\n",
    "        'IoU': iou\n",
    "    }\n",
    "\n",
    "def calculate_iou(boxA, boxB):\n",
    "    xA = max(boxA[0], boxB[0])\n",
    "    yA = max(boxA[1], boxB[1])\n",
    "    xB = min(boxA[2], boxB[2])\n",
    "    yB = min(boxA[3], boxB[3])\n",
    "\n",
    "    interArea = max(0, xB - xA + 1) * max(0, yB - yA + 1)\n",
    "    boxAArea = (boxA[2] - boxA[0] + 1) * (boxA[3] - boxA[1] + 1)\n",
    "    boxBArea = (boxB[2] - boxB[0] + 1) * (boxB[3] - boxB[1] + 1)\n",
    "\n",
    "    iou = interArea / float(boxAArea + boxBArea - interArea)\n",
    "    return iou\n",
    "\n",
    "# Example usage:\n",
    "predicted_object = {'Area': 581.0, 'Perimeter': 112.5685424949238, 'Centroid': (201.2908777969019, 132.8382099827883), 'BoundingBox': (179, 119, 220, 144), 'AspectRatio': 1.5277777777777777}\n",
    "label_object = {'Area': 98.0, 'Perimeter': 34.72792206135785, 'Centroid': (187.4387755102041, 135.62244897959184), 'BoundingBox': (182, 131, 194, 141), 'AspectRatio': 1.375886524822695}\n",
    "\n",
    "comparison_results = compare_properties(predicted_object, label_object)\n",
    "print(comparison_results)\n"
   ]
  },
  {
   "cell_type": "code",
   "execution_count": null,
   "metadata": {},
   "outputs": [],
   "source": []
  },
  {
   "cell_type": "code",
   "execution_count": 16,
   "metadata": {},
   "outputs": [
    {
     "data": {
      "text/plain": [
       "0      POINT (341423.633 6801699.717)\n",
       "1       POINT (341426.72 6801701.931)\n",
       "2      POINT (341413.943 6801697.699)\n",
       "3      POINT (341416.332 6801685.312)\n",
       "4      POINT (341265.382 6801816.634)\n",
       "                    ...              \n",
       "115    POINT (341299.939 6801845.874)\n",
       "116                       POINT EMPTY\n",
       "117    POINT (341297.536 6801861.101)\n",
       "118    POINT (341292.369 6801933.066)\n",
       "119                       POINT EMPTY\n",
       "Length: 120, dtype: geometry"
      ]
     },
     "execution_count": 16,
     "metadata": {},
     "output_type": "execute_result"
    }
   ],
   "source": [
    "import streamlit as st\n",
    "import geopandas as gpd\n",
    "\n",
    "geojson_path = '/Users/anisr/Documents/TreeSeg/colab/geojson/M4124C_2017_1.geojson'\n",
    "\n",
    "gdf = gpd.read_file(geojson_path)\n",
    "gdf.geometry.centroid\n",
    "\n",
    "\n",
    "\n"
   ]
  },
  {
   "cell_type": "code",
   "execution_count": 11,
   "metadata": {},
   "outputs": [
    {
     "data": {
      "text/plain": [
       "'/Users/anisr/Documents/TreeSeg/colab/geojson/M4124C_2017_1.geojson'"
      ]
     },
     "execution_count": 11,
     "metadata": {},
     "output_type": "execute_result"
    }
   ],
   "source": [
    "geojson_data"
   ]
  }
 ],
 "metadata": {
  "kernelspec": {
   "display_name": "venv",
   "language": "python",
   "name": "python3"
  },
  "language_info": {
   "codemirror_mode": {
    "name": "ipython",
    "version": 3
   },
   "file_extension": ".py",
   "mimetype": "text/x-python",
   "name": "python",
   "nbconvert_exporter": "python",
   "pygments_lexer": "ipython3",
   "version": "3.12.4"
  }
 },
 "nbformat": 4,
 "nbformat_minor": 2
}
